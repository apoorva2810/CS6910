{
  "nbformat": 4,
  "nbformat_minor": 0,
  "metadata": {
    "colab": {
      "name": "DL_Assignment_3_without_attention_final.ipynb",
      "provenance": [],
      "authorship_tag": "ABX9TyPoeL+C83aMh0zYxxIEO0Sd",
      "include_colab_link": true
    },
    "kernelspec": {
      "name": "python3",
      "display_name": "Python 3"
    },
    "language_info": {
      "name": "python"
    }
  },
  "cells": [
    {
      "cell_type": "markdown",
      "metadata": {
        "id": "view-in-github",
        "colab_type": "text"
      },
      "source": [
        "<a href=\"https://colab.research.google.com/github/apoorva2810/CS6910/blob/main/Assignment-3/DL_Assignment_3_without_attention_final.ipynb\" target=\"_parent\"><img src=\"https://colab.research.google.com/assets/colab-badge.svg\" alt=\"Open In Colab\"/></a>"
      ]
    },
    {
      "cell_type": "code",
      "metadata": {
        "id": "sj4HyabDW-dF"
      },
      "source": [
        "import torch\n",
        "import matplotlib.pyplot as plt\n",
        "import numpy as np\n",
        "import torch\n",
        "from keras.models import Model\n",
        "from keras.layers import Input, LSTM, Dense, GRU,SimpleRNN\n",
        "from torch.autograd import Variable\n",
        "from torch.nn import Linear, ReLU, CrossEntropyLoss, Sequential, Conv2d, MaxPool2d, Module, Softmax, BatchNorm2d, Dropout\n",
        "from torch.optim import Adam, SGD\n",
        "import tensorflow as tf\n",
        "from tensorflow import keras\n",
        "from keras.models import Model\n",
        "from keras.layers import Input, LSTM, Dense, RNN,GRU\n",
        "import pandas as pd\n",
        "from keras.preprocessing.image import ImageDataGenerator\n",
        "from keras.utils import to_categorical\n",
        "from keras.models import Sequential\n",
        "from keras.layers import Conv2D\n",
        "from keras.layers import MaxPooling2D\n",
        "from keras.layers import Dense,BatchNormalization\n",
        "from keras.layers import Flatten\n",
        "import math\n",
        "\n",
        "from keras.layers import Dropout\n",
        "import random\n",
        "import os\n",
        "from google.colab import drive\n",
        "import torch\n",
        "import torch.nn as nn\n",
        "import torch.nn.functional as F\n",
        "from torch.utils.data import DataLoader\n",
        "from torchvision import datasets, transforms\n",
        "from torchvision.utils import make_grid\n",
        "from tqdm import tqdm\n",
        "from PIL import Image\n",
        "import pickle\n",
        "from keras.models import Model\n",
        "from keras.layers import Input\n",
        "from tensorflow.keras import layers, models, Model, optimizers\n",
        "import tensorflow.keras as K\n",
        "\n",
        "from keras.callbacks import ReduceLROnPlateau\n",
        "from keras.callbacks import ModelCheckpoint\n",
        "from sklearn.model_selection import train_test_split"
      ],
      "execution_count": 1,
      "outputs": []
    },
    {
      "cell_type": "code",
      "metadata": {
        "colab": {
          "base_uri": "https://localhost:8080/"
        },
        "id": "6OnccMDDXUDs",
        "outputId": "143636a9-8d38-4084-b13f-228a50028eb0"
      },
      "source": [
        "drive.mount('/content/gdrive')"
      ],
      "execution_count": 2,
      "outputs": [
        {
          "output_type": "stream",
          "text": [
            "Mounted at /content/gdrive\n"
          ],
          "name": "stdout"
        }
      ]
    },
    {
      "cell_type": "code",
      "metadata": {
        "id": "WhIzJTU8XZsG"
      },
      "source": [
        "data_path1=\"/content/gdrive/MyDrive/hi.translit.sampled.dev.tsv\"\n",
        "data_path2=\"/content/gdrive/MyDrive/hi.translit.sampled.test.tsv\"\n",
        "\n",
        "with open(data_path2, \"r\", encoding=\"utf-8\") as f:\n",
        "    test = f.read().split(\"\\n\")\n",
        "\n",
        "data_path3=\"/content/gdrive/MyDrive/hi.translit.sampled.train.tsv\"\n",
        "\n",
        "with open(data_path3, \"r\", encoding=\"utf-8\") as f:\n",
        "    train = f.read().split(\"\\n\")"
      ],
      "execution_count": 3,
      "outputs": []
    },
    {
      "cell_type": "code",
      "metadata": {
        "colab": {
          "base_uri": "https://localhost:8080/"
        },
        "id": "g-j_Rw1MYPTh",
        "outputId": "9d46223d-b9c3-467a-dd6f-7142f6ddbd33"
      },
      "source": [
        "len(train)"
      ],
      "execution_count": 5,
      "outputs": [
        {
          "output_type": "execute_result",
          "data": {
            "text/plain": [
              "44205"
            ]
          },
          "metadata": {
            "tags": []
          },
          "execution_count": 5
        }
      ]
    },
    {
      "cell_type": "code",
      "metadata": {
        "id": "VwqZdDSwXpdP"
      },
      "source": [
        "# batch_size = 64  # Batch size for training.\n",
        "# latent_dim = 256  # Latent dimensionality of the encoding space.\n",
        "\n"
      ],
      "execution_count": 17,
      "outputs": []
    },
    {
      "cell_type": "code",
      "metadata": {
        "id": "QXz5ZgogYMT3"
      },
      "source": [
        ""
      ],
      "execution_count": 17,
      "outputs": []
    },
    {
      "cell_type": "code",
      "metadata": {
        "id": "JcAJ_6ymXsVh"
      },
      "source": [
        "data_path=data_path3\n",
        "\n",
        "# Vectorize the data.\n",
        "input_texts = []\n",
        "target_texts = []\n",
        "\n",
        "with open(data_path, \"r\", encoding=\"utf-8\") as f:\n",
        "    lines = f.read().split(\"\\n\")\n",
        "for line in lines[: len(lines) - 1]:\n",
        "    target_text, input_text,_ = line.split(\"\\t\")\n",
        "\n",
        "    ##Appending '\\t' and '\\n' for every word in target_texts\n",
        "    target_text = \"\\t\" + target_text + \"\\n\"\n",
        "    input_texts.append(input_text)\n",
        "    target_texts.append(target_text)\n",
        "\n",
        "\n"
      ],
      "execution_count": 18,
      "outputs": []
    },
    {
      "cell_type": "code",
      "metadata": {
        "id": "AoRMH7-hbTz5"
      },
      "source": [
        "\"\"\"Preparing set for unique imput and target characters\"\"\"\n",
        "input_characters = set()\n",
        "target_characters = set()\n",
        "\n",
        "for i in range( len(input_texts)-1):\n",
        "  for char in input_texts[i]:\n",
        "    input_characters.add(char)\n",
        "\n",
        "  for char in target_texts[i]:\n",
        "    target_characters.add(char)\n",
        "\n",
        "\n",
        "#Convert set to list\n",
        "input_characters = list(input_characters)\n",
        "target_characters = list(target_characters)"
      ],
      "execution_count": 19,
      "outputs": []
    },
    {
      "cell_type": "code",
      "metadata": {
        "id": "19MhzAZscVpv"
      },
      "source": [
        "\"\"\"Preparing dictionary for input characters and target characters\"\"\"\n",
        "input_token_index = dict([(char, i) for i, char in enumerate(input_characters)])\n",
        "target_token_index = dict([(char, i) for i, char in enumerate(target_characters)])\n",
        "\n",
        "##Finding the length of maximum input word and maximum target word\n",
        "\n",
        "max_encoder_seq_length=-1\n",
        "for i in input_texts:\n",
        "  if len(i)>max_encoder_seq_length:\n",
        "    max_encoder_seq_length=len(i)\n",
        "\n",
        "max_decoder_seq_length=-1\n",
        "for i in target_texts:\n",
        "  if len(i)>max_decoder_seq_length:\n",
        "    max_decoder_seq_length=len(i)\n",
        "\n",
        "num_encoder_tokens = len(input_characters)\n",
        "num_decoder_tokens = len(target_characters)\n",
        "\n",
        "target_token_index[\" \"]=65\n",
        "input_token_index[\" \"]=26"
      ],
      "execution_count": 22,
      "outputs": []
    },
    {
      "cell_type": "code",
      "metadata": {
        "colab": {
          "base_uri": "https://localhost:8080/"
        },
        "id": "VP_o31BAaOiT",
        "outputId": "99f76b3e-d853-4af4-cafd-924bb5076e78"
      },
      "source": [
        "max_encoder_seq_length, max_decoder_seq_length"
      ],
      "execution_count": 23,
      "outputs": [
        {
          "output_type": "execute_result",
          "data": {
            "text/plain": [
              "(20, 21)"
            ]
          },
          "metadata": {
            "tags": []
          },
          "execution_count": 23
        }
      ]
    },
    {
      "cell_type": "code",
      "metadata": {
        "id": "4YG8iGELaOlr"
      },
      "source": [
        ""
      ],
      "execution_count": null,
      "outputs": []
    }
  ]
}