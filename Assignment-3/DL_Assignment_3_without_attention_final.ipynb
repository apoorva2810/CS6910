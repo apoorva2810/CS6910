{
  "nbformat": 4,
  "nbformat_minor": 0,
  "metadata": {
    "colab": {
      "name": "DL_Assignment_3_without_attention_final.ipynb",
      "provenance": [],
      "collapsed_sections": [],
      "authorship_tag": "ABX9TyPRcQbfq6B8PYQPOr/qG467",
      "include_colab_link": true
    },
    "kernelspec": {
      "name": "python3",
      "display_name": "Python 3"
    },
    "language_info": {
      "name": "python"
    }
  },
  "cells": [
    {
      "cell_type": "markdown",
      "metadata": {
        "id": "view-in-github",
        "colab_type": "text"
      },
      "source": [
        "<a href=\"https://colab.research.google.com/github/apoorva2810/CS6910/blob/main/Assignment-3/DL_Assignment_3_without_attention_final.ipynb\" target=\"_parent\"><img src=\"https://colab.research.google.com/assets/colab-badge.svg\" alt=\"Open In Colab\"/></a>"
      ]
    },
    {
      "cell_type": "code",
      "metadata": {
        "id": "sj4HyabDW-dF"
      },
      "source": [
        "import torch\n",
        "import matplotlib.pyplot as plt\n",
        "import numpy as np\n",
        "import torch\n",
        "from keras.models import Model\n",
        "from keras.layers import Input, LSTM, Dense, GRU,SimpleRNN\n",
        "from torch.autograd import Variable\n",
        "from torch.nn import Linear, ReLU, CrossEntropyLoss, Sequential, Conv2d, MaxPool2d, Module, Softmax, BatchNorm2d, Dropout\n",
        "from torch.optim import Adam, SGD\n",
        "import tensorflow as tf\n",
        "from tensorflow import keras\n",
        "from keras.models import Model\n",
        "from keras.layers import Input, LSTM, Dense, RNN,GRU\n",
        "import pandas as pd\n",
        "from keras.preprocessing.image import ImageDataGenerator\n",
        "from keras.utils import to_categorical\n",
        "from keras.models import Sequential\n",
        "from keras.layers import Conv2D\n",
        "from keras.layers import MaxPooling2D\n",
        "from keras.layers import Dense,BatchNormalization\n",
        "from keras.layers import Flatten\n",
        "import math\n",
        "\n",
        "from keras.layers import Dropout\n",
        "import random\n",
        "import os\n",
        "from google.colab import drive\n",
        "import torch\n",
        "import torch.nn as nn\n",
        "import torch.nn.functional as F\n",
        "from torch.utils.data import DataLoader\n",
        "from torchvision import datasets, transforms\n",
        "from torchvision.utils import make_grid\n",
        "from tqdm import tqdm\n",
        "from PIL import Image\n",
        "import pickle\n",
        "from keras.models import Model\n",
        "from keras.layers import Input\n",
        "from tensorflow.keras import layers, models, Model, optimizers\n",
        "import tensorflow.keras as K\n",
        "\n",
        "from keras.callbacks import ReduceLROnPlateau\n",
        "from keras.callbacks import ModelCheckpoint\n",
        "from sklearn.model_selection import train_test_split"
      ],
      "execution_count": 1,
      "outputs": []
    },
    {
      "cell_type": "code",
      "metadata": {
        "colab": {
          "base_uri": "https://localhost:8080/"
        },
        "id": "6OnccMDDXUDs",
        "outputId": "143636a9-8d38-4084-b13f-228a50028eb0"
      },
      "source": [
        "drive.mount('/content/gdrive')"
      ],
      "execution_count": 2,
      "outputs": [
        {
          "output_type": "stream",
          "text": [
            "Mounted at /content/gdrive\n"
          ],
          "name": "stdout"
        }
      ]
    },
    {
      "cell_type": "code",
      "metadata": {
        "id": "WhIzJTU8XZsG"
      },
      "source": [
        "data_path1=\"/content/gdrive/MyDrive/hi.translit.sampled.dev.tsv\"\n",
        "data_path2=\"/content/gdrive/MyDrive/hi.translit.sampled.test.tsv\"\n",
        "\n",
        "with open(data_path2, \"r\", encoding=\"utf-8\") as f:\n",
        "    test = f.read().split(\"\\n\")\n",
        "\n",
        "data_path3=\"/content/gdrive/MyDrive/hi.translit.sampled.train.tsv\"\n",
        "\n",
        "with open(data_path3, \"r\", encoding=\"utf-8\") as f:\n",
        "    train = f.read().split(\"\\n\")"
      ],
      "execution_count": 72,
      "outputs": []
    },
    {
      "cell_type": "code",
      "metadata": {
        "colab": {
          "base_uri": "https://localhost:8080/"
        },
        "id": "g-j_Rw1MYPTh",
        "outputId": "9d46223d-b9c3-467a-dd6f-7142f6ddbd33"
      },
      "source": [
        "len(train)"
      ],
      "execution_count": 5,
      "outputs": [
        {
          "output_type": "execute_result",
          "data": {
            "text/plain": [
              "44205"
            ]
          },
          "metadata": {
            "tags": []
          },
          "execution_count": 5
        }
      ]
    },
    {
      "cell_type": "code",
      "metadata": {
        "id": "VwqZdDSwXpdP"
      },
      "source": [
        "# batch_size = 64  # Batch size for training.\n",
        "# latent_dim = 256  # Latent dimensionality of the encoding space.\n",
        "\n"
      ],
      "execution_count": 17,
      "outputs": []
    },
    {
      "cell_type": "code",
      "metadata": {
        "id": "QXz5ZgogYMT3"
      },
      "source": [
        ""
      ],
      "execution_count": 17,
      "outputs": []
    },
    {
      "cell_type": "code",
      "metadata": {
        "id": "JcAJ_6ymXsVh"
      },
      "source": [
        "data_path=data_path3\n",
        "\n",
        "# Vectorize the data.\n",
        "input_texts = []\n",
        "target_texts = []\n",
        "\n",
        "with open(data_path, \"r\", encoding=\"utf-8\") as f:\n",
        "    lines = f.read().split(\"\\n\")\n",
        "for line in lines[: len(lines) - 1]:\n",
        "    target_text, input_text,_ = line.split(\"\\t\")\n",
        "\n",
        "    ##Appending '\\t' and '\\n' for every word in target_texts\n",
        "    target_text = \"\\t\" + target_text + \"\\n\"\n",
        "    input_texts.append(input_text)\n",
        "    target_texts.append(target_text)\n",
        "\n",
        "\n"
      ],
      "execution_count": 44,
      "outputs": []
    },
    {
      "cell_type": "code",
      "metadata": {
        "colab": {
          "base_uri": "https://localhost:8080/",
          "height": 35
        },
        "id": "QhPsvba2mp3o",
        "outputId": "c5ede8be-ba81-443b-d2e9-ee0143401ff3"
      },
      "source": [
        "input_texts[-1]"
      ],
      "execution_count": 43,
      "outputs": [
        {
          "output_type": "execute_result",
          "data": {
            "application/vnd.google.colaboratory.intrinsic+json": {
              "type": "string"
            },
            "text/plain": [
              "'om'"
            ]
          },
          "metadata": {
            "tags": []
          },
          "execution_count": 43
        }
      ]
    },
    {
      "cell_type": "code",
      "metadata": {
        "id": "AoRMH7-hbTz5"
      },
      "source": [
        "\"\"\"Preparing set for unique imput and target characters\"\"\"\n",
        "input_characters = set()\n",
        "target_characters = set()\n",
        "\n",
        "for i in range( len(input_texts)):\n",
        "  for char in input_texts[i]:\n",
        "    input_characters.add(char)\n",
        "\n",
        "  for char in target_texts[i]:\n",
        "    target_characters.add(char)\n",
        "\n",
        "\n",
        "#Convert set to list\n",
        "input_characters = list(input_characters)\n",
        "target_characters = list(target_characters)"
      ],
      "execution_count": 45,
      "outputs": []
    },
    {
      "cell_type": "code",
      "metadata": {
        "id": "19MhzAZscVpv"
      },
      "source": [
        "\"\"\"Preparing dictionary for input characters and target characters\"\"\"\n",
        "input_token_index = dict([(char, i) for i, char in enumerate(input_characters)])\n",
        "target_token_index = dict([(char, i) for i, char in enumerate(target_characters)])\n",
        "\n",
        "##Finding the length of maximum input word and maximum target word\n",
        "\n",
        "max_encoder_seq_length=-1\n",
        "for i in input_texts:\n",
        "  if len(i)>max_encoder_seq_length:\n",
        "    max_encoder_seq_length=len(i)\n",
        "\n",
        "max_decoder_seq_length=-1\n",
        "for i in target_texts:\n",
        "  if len(i)>max_decoder_seq_length:\n",
        "    max_decoder_seq_length=len(i)\n",
        "\n",
        "num_encoder_tokens = len(input_characters)\n",
        "num_decoder_tokens = len(target_characters)\n",
        "\n",
        "target_token_index[\" \"]=65\n",
        "input_token_index[\" \"]=26"
      ],
      "execution_count": 49,
      "outputs": []
    },
    {
      "cell_type": "code",
      "metadata": {
        "colab": {
          "base_uri": "https://localhost:8080/"
        },
        "id": "VP_o31BAaOiT",
        "outputId": "0cd9b02d-e835-47e4-b852-955b1da84d4b"
      },
      "source": [
        "max_encoder_seq_length, max_decoder_seq_length"
      ],
      "execution_count": 47,
      "outputs": [
        {
          "output_type": "execute_result",
          "data": {
            "text/plain": [
              "(20, 21)"
            ]
          },
          "metadata": {
            "tags": []
          },
          "execution_count": 47
        }
      ]
    },
    {
      "cell_type": "code",
      "metadata": {
        "id": "NmbP0dZtwpFw"
      },
      "source": [
        "##For test data\n",
        "input_texts_test = []\n",
        "target_texts_test = []\n",
        "\n",
        "with open(data_path2, \"r\", encoding=\"utf-8\") as f:\n",
        "    lines = f.read().split(\"\\n\")\n",
        "for line in lines[: len(lines) - 1]:\n",
        "    target_text, input_text,_ = line.split(\"\\t\")\n",
        "    # We use \"tab\" as the \"start sequence\" character\n",
        "    # for the targets, and \"\\n\" as \"end sequence\" character.\n",
        "    input_text=input_text\n",
        "    target_text = \"\\t\" + target_text + \"\\n\"\n",
        "    input_texts_test.append(input_text)\n",
        "    target_texts_test.append(target_text)\n",
        "\n",
        "\n",
        "encoder_input_data_test = np.zeros(\n",
        "    (len(input_texts_test), max_encoder_seq_length), dtype=\"float32\"\n",
        ")\n",
        "\n",
        "for i, input_text in enumerate(input_texts_test):\n",
        "    for t, char in enumerate(input_text):\n",
        "        encoder_input_data_test[i, t] =  input_token_index[char]"
      ],
      "execution_count": 76,
      "outputs": []
    },
    {
      "cell_type": "code",
      "metadata": {
        "colab": {
          "base_uri": "https://localhost:8080/"
        },
        "id": "c6rnsSFgw7b2",
        "outputId": "b81b7639-26b8-4de4-918c-fb223c469d13"
      },
      "source": [
        "len(input_texts_test)"
      ],
      "execution_count": 75,
      "outputs": [
        {
          "output_type": "execute_result",
          "data": {
            "text/plain": [
              "4502"
            ]
          },
          "metadata": {
            "tags": []
          },
          "execution_count": 75
        }
      ]
    },
    {
      "cell_type": "code",
      "metadata": {
        "id": "4YG8iGELaOlr"
      },
      "source": [
        "#Train and validation split of training data\n",
        "inputTrain, inputValTrain, targetTrain, targetValTest = train_test_split(input_texts, target_texts,\n",
        "                                                    test_size = 0.1,\n",
        "                                                    random_state = 1) "
      ],
      "execution_count": 50,
      "outputs": []
    },
    {
      "cell_type": "code",
      "metadata": {
        "colab": {
          "base_uri": "https://localhost:8080/"
        },
        "id": "WUzuVuO0ihPH",
        "outputId": "9ffc23ec-816e-4d6b-8f2b-bccd63a129cc"
      },
      "source": [
        "print(len(inputTrain), len(targetTrain))\n",
        "print(len(inputValTrain), len(targetValTest))"
      ],
      "execution_count": 51,
      "outputs": [
        {
          "output_type": "stream",
          "text": [
            "39783 39783\n",
            "4421 4421\n"
          ],
          "name": "stdout"
        }
      ]
    },
    {
      "cell_type": "code",
      "metadata": {
        "id": "KRAlX2rXihSA"
      },
      "source": [
        "encoder_input_data = np.zeros(\n",
        "    (len(inputTrain), max_encoder_seq_length, num_encoder_tokens+1), dtype=\"float32\"\n",
        ")\n",
        "decoder_input_data = np.zeros(\n",
        "    (len(inputTrain), max_decoder_seq_length, num_decoder_tokens+1), dtype=\"float32\"\n",
        ")\n",
        "decoder_target_data = np.zeros(\n",
        "    (len(inputTrain), max_decoder_seq_length, num_decoder_tokens+1), dtype=\"float32\"\n",
        ")"
      ],
      "execution_count": 52,
      "outputs": []
    },
    {
      "cell_type": "code",
      "metadata": {
        "colab": {
          "base_uri": "https://localhost:8080/"
        },
        "id": "j8BQOfZMi5lk",
        "outputId": "893c8929-6407-4e2a-c792-994e688344af"
      },
      "source": [
        "print(encoder_input_data.shape)\n",
        "print(decoder_input_data.shape)\n",
        "print(decoder_target_data.shape)"
      ],
      "execution_count": 53,
      "outputs": [
        {
          "output_type": "stream",
          "text": [
            "(39783, 20, 27)\n",
            "(39783, 21, 66)\n",
            "(39783, 21, 66)\n"
          ],
          "name": "stdout"
        }
      ]
    },
    {
      "cell_type": "code",
      "metadata": {
        "id": "bvaHG3LpihUx"
      },
      "source": [
        "\"\"\"Creating one hot vector for encoder inputs, decoder inputs, and decoder targer\"\"\"\n",
        "\n",
        "for i, (input_text, target_text) in enumerate(zip(inputTrain, targetTrain)):\n",
        "\n",
        "    for t, char in enumerate(input_text):\n",
        "        encoder_input_data[i, t, input_token_index[char]] = 1.0\n",
        "    encoder_input_data[i, t + 1 :, input_token_index[\" \"]] = 1.0\n",
        "   \n",
        "\n",
        "for i, (input_text, target_text) in enumerate(zip(inputTrain, targetTrain)):\n",
        "\n",
        "    for t, char in enumerate(target_text):\n",
        "        decoder_input_data[i, t, target_token_index[char]] = 1.0\n",
        "        if t > 0:\n",
        "            decoder_target_data[i, t - 1, target_token_index[char]] = 1.0\n",
        "    \n",
        "    decoder_input_data[i, t + 1 :, target_token_index[\" \"]] = 1.0\n",
        "    decoder_target_data[i, t:, target_token_index[\" \"]] = 1.0"
      ],
      "execution_count": 54,
      "outputs": []
    },
    {
      "cell_type": "code",
      "metadata": {
        "id": "OCzl-ixuihoY"
      },
      "source": [
        "#For inputValTrain\n",
        "\n",
        "encoder_input_val = np.zeros(\n",
        "    (len(inputValTrain), max_encoder_seq_length, num_encoder_tokens+1), dtype=\"float32\"\n",
        ")\n",
        "\n",
        "for i, input_text in enumerate(inputValTrain):\n",
        "    for t, char in enumerate(input_text):\n",
        "        encoder_input_val[i, t, input_token_index[char]] = 1.0\n",
        "    encoder_input_val[i, t + 1 :, input_token_index[\" \"]] = 1.0"
      ],
      "execution_count": 55,
      "outputs": []
    },
    {
      "cell_type": "code",
      "metadata": {
        "id": "A_OfskHuihrG"
      },
      "source": [
        "\"\"\"Function returns word level accuracy and predicted words\"\"\"\n",
        "\n",
        "def  ValAcc2(x,y,num_stack,model_type,enc_model,dec_model,beam_size):\n",
        "  \n",
        "  correct_predict=0\n",
        "  predicted_words=[]\n",
        "  for i, input_text in enumerate(x):\n",
        "    \n",
        "    # for t, char in enumerate(input_text):\n",
        "    #     onehotlist[i, t, input_token_index[char]] = 1.0\n",
        "    # onehotlist[i, t + 1 :, input_token_index[\" \"]] = 1.0\n",
        "\n",
        "    input_seq = x[i:i+1]\n",
        "    if num_stack==2:\n",
        "      decoded_word = decode_sequence2(input_seq,model_type,enc_model,dec_model,beam_size)\n",
        "    else :\n",
        "       decoded_word = decode_sequence1(input_seq,model_type,enc_model,dec_model,beam_size)\n",
        "\n",
        "    \n",
        "    #print(decoded_word)\n",
        "    #print(\"---\",y[i])\n",
        "    predicted_words.append(decoded_word)\n",
        "\n",
        "    if decoded_word==y[i].split('\\t')[1].split('\\n')[0]:\n",
        "      correct_predict=correct_predict+1\n",
        "  \n",
        "  \n",
        "  valid_acc=correct_predict/len(x)    \n",
        "  return valid_acc, predicted_words\n",
        "\n",
        "\n",
        "\n",
        "\n"
      ],
      "execution_count": 56,
      "outputs": []
    },
    {
      "cell_type": "code",
      "metadata": {
        "id": "NrE-2IRMpU2b"
      },
      "source": [
        "reverse_input_char_index=dict()\n",
        "for char, i in input_token_index.items():\n",
        "  reverse_input_char_index[i]=char\n",
        "\n",
        "reverse_target_char_index=dict()\n",
        "for char, i in target_token_index.items():\n",
        "  reverse_target_char_index[i]=char"
      ],
      "execution_count": 58,
      "outputs": []
    },
    {
      "cell_type": "code",
      "metadata": {
        "id": "3G1TqUbZpu4Z"
      },
      "source": [
        "def decode_sequence1(input_seq,model_type,encoder_model,decoder_model,beam_size):\n",
        "    states_value = encoder_model.predict(input_seq)\n",
        "    #print(np.array(states_value).shape)\n",
        "\n",
        "    target_seq = np.zeros((1, 1, num_decoder_tokens+1))\n",
        "    target_seq[0, 0, target_token_index['\\t']] = 1.\n",
        "\n",
        "    stop_condition = False\n",
        "    decoded_sentence = ''\n",
        "    out_tokens2d=[]\n",
        "    while True:\n",
        "        if model_type==\"GRU\" or model_type==\"RNN\":\n",
        "          output_tokens,h = decoder_model.predict(\n",
        "              [target_seq] + [states_value])\n",
        "        else:\n",
        "          output_tokens, h, c = decoder_model.predict(\n",
        "              [target_seq] + [states_value])\n",
        "        out_tokens2d.append(output_tokens)\n",
        "        # Sample a token\n",
        "        sampled_token_index = np.argmax(output_tokens[0, -1, :])\n",
        "        sampled_char = reverse_target_char_index[sampled_token_index]\n",
        "        decoded_sentence += sampled_char\n",
        "\n",
        "        if (sampled_char == '\\n' or\n",
        "           len(decoded_sentence) > max_decoder_seq_length):\n",
        "            # stop_condition = True\n",
        "            break\n",
        "\n",
        "        # Update the target sequence (of length 1).\n",
        "        target_seq = np.zeros((1, 1, num_decoder_tokens+1))\n",
        "        target_seq[0, 0, sampled_token_index] = 1.\n",
        "\n",
        "        # Update states\n",
        "        if model_type==\"GRU\" or model_type==\"RNN\":\n",
        "          states_value = [h]\n",
        "        else:\n",
        "          states_value = [h, c]\n",
        "\n",
        "    out_tokens2d=np.array(out_tokens2d)\n",
        "    #print(out_tokens2d.shape[0])\n",
        "    len_word=out_tokens2d.shape[0]\n",
        "    len_allchars=out_tokens2d.shape[3]\n",
        "    #print(input_seq.shape)\n",
        "    out_tokens2d=out_tokens2d.reshape(len_word,len_allchars)\n",
        "    #print(out_tokens2d.shape)\n",
        "    #return decoded_sentence\n",
        "\n",
        "    \"\"\"Adding beam search\"\"\"\n",
        "    bsd_out=beam_search_decoder(out_tokens2d,reverse_target_char_index ,beam_size)\n",
        "\n",
        "    ans=bsd_out[0][0].split('\\n')\n",
        "    #print(ans[0])\n",
        "    return ans[0]\n",
        "\n"
      ],
      "execution_count": 60,
      "outputs": []
    },
    {
      "cell_type": "code",
      "metadata": {
        "id": "0iCd9KO2qqpH"
      },
      "source": [
        "def decode_sequence2(input_seq,model_type,encoder_model,decoder_model,beam_size):\n",
        "    \n",
        "    states_value = encoder_model.predict(input_seq)\n",
        "\n",
        "    target_seq = np.zeros((1, 1, num_decoder_tokens+1))\n",
        "    \n",
        "    target_seq[0, 0, target_token_index['\\t']] = 1.\n",
        "\n",
        "    # stop_condition = False\n",
        "    decoded_sentence = ''\n",
        "    out_tokens2d=[]\n",
        "    while True:\n",
        "\n",
        "      if model_type==\"LSTM\":\n",
        "        output_tokens, h, c, h1, c1 = decoder_model.predict(\n",
        "            [target_seq] + states_value)\n",
        "      else:\n",
        "        output_tokens, h1= decoder_model.predict(\n",
        "            [target_seq] + states_value)\n",
        "      out_tokens2d.append(output_tokens)\n",
        "        \n",
        "      sampled_token_index = np.argmax(output_tokens[0, -1, :])\n",
        "      sampled_char = reverse_target_char_index[sampled_token_index]\n",
        "      decoded_sentence += sampled_char\n",
        "\n",
        "      if (sampled_char == '\\n' or\n",
        "          len(decoded_sentence) > max_decoder_seq_length):\n",
        "          # stop_condition = True\n",
        "          break\n",
        "\n",
        "      \n",
        "      target_seq = np.zeros((1, 1, num_decoder_tokens+1))\n",
        "      target_seq[0, 0, sampled_token_index] = 1.\n",
        "\n",
        "      if model_type==\"LSTM\":\n",
        "        states_value = [h, c, h1, c1]\n",
        "      else :\n",
        "        states_value = [ h1]\n",
        "\n",
        "    out_tokens2d=np.array(out_tokens2d)\n",
        "    #print(out_tokens2d.shape[0])\n",
        "    len_word=out_tokens2d.shape[0]\n",
        "    len_allchars=out_tokens2d.shape[3]\n",
        "    #print(input_seq.shape)\n",
        "    out_tokens2d=out_tokens2d.reshape(len_word,len_allchars)\n",
        "    #print(out_tokens2d.shape)\n",
        "    #return decoded_sentence\n",
        "\n",
        "    \"\"\"Adding beam search\"\"\"\n",
        "    bsd_out=beam_search_decoder(out_tokens2d,reverse_target_char_index ,beam_size)\n",
        "    #decoded_sentence=bsd_out[0]\n",
        "    #return decoded_sentence\n",
        "    ans=bsd_out[0][0].split('\\n')\n",
        "    #print(ans[0])\n",
        "    return ans[0]\n"
      ],
      "execution_count": 61,
      "outputs": []
    },
    {
      "cell_type": "code",
      "metadata": {
        "id": "FL6R0PjSsNtM"
      },
      "source": [
        "def beam_search_decoder(predictedWord, target_sequence_index,top_k=3):\n",
        "\n",
        "  #initially\n",
        "  output_sequences=[(\"\",0)]\n",
        "\n",
        "  for token_probs in predictedWord:\n",
        "    new_sequences=[]\n",
        "\n",
        "    #append new tokens to old sequences and re-score\n",
        "    for old_seq, old_score in output_sequences:\n",
        "      for char_index in range(len(token_probs)):\n",
        "        new_seq = old_seq+target_sequence_index[char_index] \n",
        "\n",
        "        \n",
        "        new_score= old_score + math.log(token_probs[char_index]) \n",
        "        #DOUBT: logging based of ASCII Value might be incorrect --> Clear\n",
        "\n",
        "        new_sequences.append((new_seq, new_score))\n",
        "    \n",
        "    output_sequences=sorted(new_sequences, key= lambda val: val[1], reverse=True)\n",
        "\n",
        "    #Selecting only top-k scores\n",
        "    output_sequences = output_sequences[:top_k]\n",
        "\n",
        "  \n",
        "  return output_sequences\n",
        "\n",
        "\n",
        "  "
      ],
      "execution_count": 62,
      "outputs": []
    },
    {
      "cell_type": "code",
      "metadata": {
        "id": "FX9Wp8THtLmP"
      },
      "source": [
        "def model_run(num_stack,type,layer_size,drop,beam_size=1,epochs=1):\n",
        "  if num_stack==1:\n",
        "    if type==\"RNN\":\n",
        "      encoder_inputs = Input(shape=(None, num_encoder_tokens+1))\n",
        "      encoder = SimpleRNN(layer_size, return_state=True,dropout=drop)\n",
        "      encoder_outputs, state_h = encoder(encoder_inputs)\n",
        "      encoder_states = [state_h]\n",
        "      decoder_inputs = Input(shape=(None, num_decoder_tokens+1))\n",
        "      decoder_rnn = SimpleRNN(layer_size, return_sequences=True, return_state=True,dropout=drop)\n",
        "      decoder_outputs, _ = decoder_rnn(decoder_inputs,\n",
        "                                          initial_state=encoder_states)\n",
        "      dropout = Dropout(rate=drop)\n",
        "      final= dropout(decoder_outputs)\n",
        "      decoder_dense = Dense(num_decoder_tokens+1, activation='softmax')\n",
        "      decoder_outputs = decoder_dense(final)\n",
        "      model = Model([encoder_inputs, decoder_inputs], decoder_outputs)\n",
        "\n",
        "    elif type==\"GRU\":\n",
        "      encoder_inputs = Input(shape=(None, num_encoder_tokens+1))\n",
        "      encoder = GRU(layer_size, return_state=True,dropout=drop)\n",
        "      encoder_outputs, state_h = encoder(encoder_inputs)\n",
        "      encoder_states = [state_h]\n",
        "      decoder_inputs = Input(shape=(None, num_decoder_tokens+1))\n",
        "      decoder_gru = GRU(layer_size, return_sequences=True, return_state=True,dropout=drop)\n",
        "      decoder_outputs, _ = decoder_gru(decoder_inputs,\n",
        "                                          initial_state=encoder_states)\n",
        "      dropout = Dropout(rate=drop)\n",
        "      final= dropout(decoder_outputs)\n",
        "      decoder_dense = Dense(num_decoder_tokens+1, activation='softmax')\n",
        "      decoder_outputs = decoder_dense(final)\n",
        "      model = Model([encoder_inputs, decoder_inputs], decoder_outputs)\n",
        "    else :\n",
        "      encoder_inputs = Input(shape=(None, num_encoder_tokens+1))\n",
        "      encoder = LSTM(layer_size, return_state=True,dropout=drop)\n",
        "      encoder_outputs, state_h, state_c = encoder(encoder_inputs)\n",
        "      \n",
        "      encoder_states = [state_h, state_c]\n",
        "      decoder_inputs = Input(shape=(None, num_decoder_tokens+1))\n",
        "      \n",
        "      decoder_lstm = LSTM(layer_size, return_sequences=True, return_state=True,dropout=drop)\n",
        "      decoder_outputs, _, _ = decoder_lstm(decoder_inputs,\n",
        "                                          initial_state=encoder_states)\n",
        "      dropout = Dropout(rate=drop)\n",
        "      final= dropout(decoder_outputs)\n",
        "      decoder_dense = Dense(num_decoder_tokens+1, activation='softmax')\n",
        "      decoder_outputs = decoder_dense(final)\n",
        "      model = Model([encoder_inputs, decoder_inputs], decoder_outputs)\n",
        "    \n",
        "\n",
        "\n",
        "  elif num_stack==2:\n",
        "    if type==\"RNN\":\n",
        "            \n",
        "            \n",
        "            \n",
        "            encoder_inputs = Input(shape=(None, num_encoder_tokens+1))\n",
        "\n",
        "            e_outputs, h1 = SimpleRNN(layer_size, return_state=True, return_sequences=True,dropout=drop)(encoder_inputs) \n",
        "            _, h2 =SimpleRNN(layer_size, return_state=True,dropout=drop)(e_outputs) \n",
        "            encoder_states = [h1, h2]\n",
        "\n",
        "            decoder_inputs = Input(shape=(None, num_decoder_tokens+1))\n",
        "\n",
        "            out_layer1 = SimpleRNN(layer_size, return_sequences=True, return_state=True,dropout=drop)\n",
        "            d_outputs, dh1 = out_layer1(decoder_inputs,initial_state= [h1])\n",
        "            out_layer2 = SimpleRNN(layer_size, return_sequences=True, return_state=True,dropout=drop)\n",
        "            final, dh2 = out_layer2(d_outputs, initial_state= [h2])\n",
        "\n",
        "            dropout = Dropout(rate=drop)\n",
        "            final= dropout(final)\n",
        "\n",
        "            decoder_dense = Dense(num_decoder_tokens+1, activation='softmax')\n",
        "            decoder_outputs = decoder_dense(final)\n",
        "\n",
        "\n",
        "            model = Model([encoder_inputs, decoder_inputs], decoder_outputs)\n",
        "\n",
        "    elif type==\"GRU\":\n",
        "          \n",
        "          encoder_inputs = Input(shape=(None, num_encoder_tokens+1))\n",
        "\n",
        "          e_outputs, h1 = GRU(layer_size, return_state=True, return_sequences=True,dropout=drop)(encoder_inputs) \n",
        "          _, h2 =GRU(layer_size, return_state=True,dropout=drop)(e_outputs) \n",
        "          encoder_states = [h1, h2]\n",
        "\n",
        "          decoder_inputs = Input(shape=(None, num_decoder_tokens+1))\n",
        "\n",
        "          out_layer1 = GRU(layer_size, return_sequences=True, return_state=True,dropout=drop)\n",
        "          d_outputs, dh1 = out_layer1(decoder_inputs,initial_state= [h1])\n",
        "          out_layer2 = GRU(layer_size, return_sequences=True, return_state=True,dropout=drop)\n",
        "          final, dh2 = out_layer2(d_outputs, initial_state= [h2])\n",
        "\n",
        "          dropout = Dropout(rate=drop)\n",
        "          final= dropout(final)\n",
        "\n",
        "          decoder_dense = Dense(num_decoder_tokens+1, activation='softmax')\n",
        "          decoder_outputs = decoder_dense(final)\n",
        "\n",
        "\n",
        "          model = Model([encoder_inputs, decoder_inputs], decoder_outputs)\n",
        "\n",
        "    else:\n",
        "        encoder_inputs = Input(shape=(None, num_encoder_tokens+1))\n",
        "\n",
        "        e_outputs, h1, c1 = LSTM(layer_size, return_state=True, return_sequences=True,dropout=drop)(encoder_inputs) \n",
        "        _, h2, c2 = LSTM(layer_size, return_state=True,dropout=drop)(e_outputs) \n",
        "        encoder_states = [h1, c1, h2, c2]\n",
        "\n",
        "        decoder_inputs = Input(shape=(None, num_decoder_tokens+1))\n",
        "\n",
        "        out_layer1 = LSTM(layer_size, return_sequences=True, return_state=True,dropout=drop)\n",
        "        d_outputs, dh1, dc1 = out_layer1(decoder_inputs,initial_state= [h1, c1])\n",
        "        out_layer2 = LSTM(layer_size, return_sequences=True, return_state=True,dropout=drop)\n",
        "        final, dh2, dc2 = out_layer2(d_outputs, initial_state= [h2, c2])\n",
        "\n",
        "        dropout = Dropout(rate=drop)\n",
        "        final= dropout(final)\n",
        "\n",
        "\n",
        "\n",
        "        decoder_dense = Dense(num_decoder_tokens+1, activation='softmax')\n",
        "        decoder_outputs = decoder_dense(final)\n",
        "\n",
        "\n",
        "        model = Model([encoder_inputs, decoder_inputs], decoder_outputs)\n",
        "\n",
        "  model.compile(\n",
        "        optimizer=\"rmsprop\", loss=\"categorical_crossentropy\", metrics=[\"accuracy\"]\n",
        "    )\n",
        "  model.fit(\n",
        "        [encoder_input_data, decoder_input_data],\n",
        "        decoder_target_data,\n",
        "        batch_size=batch_size,\n",
        "        epochs=epochs,\n",
        "      \n",
        "   )\n",
        "   #Inference Model\n",
        "  if num_stack==1:\n",
        "    if type==\"LSTM\":\n",
        "      encoder_model = Model(encoder_inputs, encoder_states)\n",
        "      decoder_state_input_h = Input(shape=(layer_size,))\n",
        "      decoder_state_input_c = Input(shape=(layer_size,))\n",
        "      decoder_states_inputs = [decoder_state_input_h, decoder_state_input_c]\n",
        "      decoder_outputs, state_h, state_c = decoder_lstm(\n",
        "          decoder_inputs, initial_state=decoder_states_inputs)\n",
        "      decoder_states = [state_h, state_c]\n",
        "      decoder_outputs = decoder_dense(decoder_outputs)\n",
        "      decoder_model = Model(\n",
        "          [decoder_inputs] + decoder_states_inputs,\n",
        "          [decoder_outputs] + decoder_states)\n",
        "      \n",
        "    elif type==\"GRU\":\n",
        "      encoder_model = Model(encoder_inputs, encoder_states)\n",
        "      decoder_state_input_h = Input(shape=(layer_size,))\n",
        "      decoder_states_inputs = [decoder_state_input_h]\n",
        "      decoder_outputs, state_h= decoder_gru(\n",
        "          decoder_inputs, initial_state=decoder_states_inputs)\n",
        "      decoder_states = [state_h]\n",
        "      decoder_outputs = decoder_dense(decoder_outputs)\n",
        "      decoder_model = Model(\n",
        "          [decoder_inputs] + decoder_states_inputs,\n",
        "          [decoder_outputs] + decoder_states)\n",
        "    else:\n",
        "      encoder_model = Model(encoder_inputs, encoder_states)\n",
        "      decoder_state_input_h = Input(shape=(layer_size,))\n",
        "      decoder_states_inputs = [decoder_state_input_h]\n",
        "      decoder_outputs, state_h= decoder_rnn(\n",
        "          decoder_inputs, initial_state=decoder_states_inputs)\n",
        "      decoder_states = [state_h]\n",
        "      decoder_outputs = decoder_dense(decoder_outputs)\n",
        "      decoder_model = Model(\n",
        "          [decoder_inputs] + decoder_states_inputs,\n",
        "          [decoder_outputs] + decoder_states)\n",
        "\n",
        "\n",
        "  elif num_stack==2:\n",
        "    if type==\"LSTM\":\n",
        "      encoder_model = Model(encoder_inputs, encoder_states)\n",
        "\n",
        "      decoder_state_input_h = Input(shape=(layer_size,))\n",
        "      decoder_state_input_c = Input(shape=(layer_size,))\n",
        "      decoder_state_input_h1 = Input(shape=(layer_size,))\n",
        "      decoder_state_input_c1 = Input(shape=(layer_size,))\n",
        "      decoder_states_inputs = [decoder_state_input_h, decoder_state_input_c, \n",
        "                              decoder_state_input_h1, decoder_state_input_c1]\n",
        "      d_o, state_h, state_c = out_layer1(\n",
        "          decoder_inputs, initial_state=decoder_states_inputs[:2])\n",
        "      d_o, state_h1, state_c1 = out_layer2(\n",
        "          d_o, initial_state=decoder_states_inputs[-2:])\n",
        "      decoder_states = [state_h, state_c, state_h1, state_c1]\n",
        "      decoder_outputs = decoder_dense(d_o)\n",
        "      decoder_model = Model(\n",
        "          [decoder_inputs] + decoder_states_inputs,\n",
        "          [decoder_outputs] + decoder_states)\n",
        "\n",
        "\n",
        "    ##GRU\n",
        "    else :\n",
        "      encoder_model = Model(encoder_inputs, encoder_states)\n",
        "\n",
        "      decoder_state_input_h = Input(shape=(layer_size,))\n",
        "      #decoder_state_input_c = Input(shape=(layer_size,))\n",
        "      decoder_state_input_h1 = Input(shape=(layer_size,))\n",
        "      #decoder_state_input_c1 = Input(shape=(layer_size,))\n",
        "      decoder_states_inputs = [decoder_state_input_h,  \n",
        "                              decoder_state_input_h1]\n",
        "      d_o, state_h= out_layer1(\n",
        "          decoder_inputs, initial_state=decoder_states_inputs[:1])\n",
        "      d_o, state_h1= out_layer2(\n",
        "          d_o, initial_state=decoder_states_inputs[-1:])\n",
        "      decoder_states = [state_h, state_h1]\n",
        "      decoder_outputs = decoder_dense(d_o)\n",
        "      decoder_model = Model(\n",
        "          [decoder_inputs] + decoder_states_inputs,\n",
        "          [decoder_outputs] + [decoder_states])\n",
        "\n",
        "  return ValAcc2(encoder_input_data_test, target_texts_test, num_stack,type,encoder_model,decoder_model,beam_size)\n",
        "\n",
        "\n"
      ],
      "execution_count": 77,
      "outputs": []
    },
    {
      "cell_type": "code",
      "metadata": {
        "id": "iGH_WaMkvDNH"
      },
      "source": [
        ""
      ],
      "execution_count": null,
      "outputs": []
    },
    {
      "cell_type": "code",
      "metadata": {
        "colab": {
          "base_uri": "https://localhost:8080/",
          "height": 35
        },
        "id": "NcwZx1_YvCw0",
        "outputId": "88a2a75e-7975-41c9-dc83-f01c280c8245"
      },
      "source": [
        "\"\"\"Wandb part\"\"\""
      ],
      "execution_count": 63,
      "outputs": [
        {
          "output_type": "execute_result",
          "data": {
            "application/vnd.google.colaboratory.intrinsic+json": {
              "type": "string"
            },
            "text/plain": [
              "'Wandb part'"
            ]
          },
          "metadata": {
            "tags": []
          },
          "execution_count": 63
        }
      ]
    },
    {
      "cell_type": "code",
      "metadata": {
        "colab": {
          "base_uri": "https://localhost:8080/"
        },
        "id": "77qXM0lUvFZF",
        "outputId": "338f2f9b-95e2-4455-e339-8a911a7d0811"
      },
      "source": [
        "!pip install wandb"
      ],
      "execution_count": 64,
      "outputs": [
        {
          "output_type": "stream",
          "text": [
            "Collecting wandb\n",
            "\u001b[?25l  Downloading https://files.pythonhosted.org/packages/98/5f/45439b4767334b868e1c8c35b1b0ba3747d8c21be77b79f09eed7aa3c72b/wandb-0.10.30-py2.py3-none-any.whl (1.8MB)\n",
            "\u001b[K     |████████████████████████████████| 1.8MB 7.6MB/s \n",
            "\u001b[?25hCollecting GitPython>=1.0.0\n",
            "\u001b[?25l  Downloading https://files.pythonhosted.org/packages/27/da/6f6224fdfc47dab57881fe20c0d1bc3122be290198ba0bf26a953a045d92/GitPython-3.1.17-py3-none-any.whl (166kB)\n",
            "\u001b[K     |████████████████████████████████| 174kB 36.8MB/s \n",
            "\u001b[?25hRequirement already satisfied: six>=1.13.0 in /usr/local/lib/python3.7/dist-packages (from wandb) (1.15.0)\n",
            "Requirement already satisfied: requests<3,>=2.0.0 in /usr/local/lib/python3.7/dist-packages (from wandb) (2.23.0)\n",
            "Collecting pathtools\n",
            "  Downloading https://files.pythonhosted.org/packages/e7/7f/470d6fcdf23f9f3518f6b0b76be9df16dcc8630ad409947f8be2eb0ed13a/pathtools-0.1.2.tar.gz\n",
            "Collecting shortuuid>=0.5.0\n",
            "  Downloading https://files.pythonhosted.org/packages/25/a6/2ecc1daa6a304e7f1b216f0896b26156b78e7c38e1211e9b798b4716c53d/shortuuid-1.0.1-py3-none-any.whl\n",
            "Requirement already satisfied: python-dateutil>=2.6.1 in /usr/local/lib/python3.7/dist-packages (from wandb) (2.8.1)\n",
            "Collecting docker-pycreds>=0.4.0\n",
            "  Downloading https://files.pythonhosted.org/packages/f5/e8/f6bd1eee09314e7e6dee49cbe2c5e22314ccdb38db16c9fc72d2fa80d054/docker_pycreds-0.4.0-py2.py3-none-any.whl\n",
            "Requirement already satisfied: PyYAML in /usr/local/lib/python3.7/dist-packages (from wandb) (3.13)\n",
            "Collecting configparser>=3.8.1\n",
            "  Downloading https://files.pythonhosted.org/packages/fd/01/ff260a18caaf4457eb028c96eeb405c4a230ca06c8ec9c1379f813caa52e/configparser-5.0.2-py3-none-any.whl\n",
            "Requirement already satisfied: promise<3,>=2.0 in /usr/local/lib/python3.7/dist-packages (from wandb) (2.3)\n",
            "Collecting subprocess32>=3.5.3\n",
            "\u001b[?25l  Downloading https://files.pythonhosted.org/packages/32/c8/564be4d12629b912ea431f1a50eb8b3b9d00f1a0b1ceff17f266be190007/subprocess32-3.5.4.tar.gz (97kB)\n",
            "\u001b[K     |████████████████████████████████| 102kB 13.1MB/s \n",
            "\u001b[?25hCollecting sentry-sdk>=0.4.0\n",
            "\u001b[?25l  Downloading https://files.pythonhosted.org/packages/1c/4a/a54b254f67d8f4052338d54ebe90126f200693440a93ef76d254d581e3ec/sentry_sdk-1.1.0-py2.py3-none-any.whl (131kB)\n",
            "\u001b[K     |████████████████████████████████| 133kB 35.6MB/s \n",
            "\u001b[?25hRequirement already satisfied: psutil>=5.0.0 in /usr/local/lib/python3.7/dist-packages (from wandb) (5.4.8)\n",
            "Requirement already satisfied: protobuf>=3.12.0 in /usr/local/lib/python3.7/dist-packages (from wandb) (3.12.4)\n",
            "Requirement already satisfied: Click>=7.0 in /usr/local/lib/python3.7/dist-packages (from wandb) (8.0.0)\n",
            "Collecting gitdb<5,>=4.0.1\n",
            "\u001b[?25l  Downloading https://files.pythonhosted.org/packages/ea/e8/f414d1a4f0bbc668ed441f74f44c116d9816833a48bf81d22b697090dba8/gitdb-4.0.7-py3-none-any.whl (63kB)\n",
            "\u001b[K     |████████████████████████████████| 71kB 10.4MB/s \n",
            "\u001b[?25hRequirement already satisfied: typing-extensions>=3.7.4.0; python_version < \"3.8\" in /usr/local/lib/python3.7/dist-packages (from GitPython>=1.0.0->wandb) (3.7.4.3)\n",
            "Requirement already satisfied: urllib3!=1.25.0,!=1.25.1,<1.26,>=1.21.1 in /usr/local/lib/python3.7/dist-packages (from requests<3,>=2.0.0->wandb) (1.24.3)\n",
            "Requirement already satisfied: certifi>=2017.4.17 in /usr/local/lib/python3.7/dist-packages (from requests<3,>=2.0.0->wandb) (2020.12.5)\n",
            "Requirement already satisfied: chardet<4,>=3.0.2 in /usr/local/lib/python3.7/dist-packages (from requests<3,>=2.0.0->wandb) (3.0.4)\n",
            "Requirement already satisfied: idna<3,>=2.5 in /usr/local/lib/python3.7/dist-packages (from requests<3,>=2.0.0->wandb) (2.10)\n",
            "Requirement already satisfied: setuptools in /usr/local/lib/python3.7/dist-packages (from protobuf>=3.12.0->wandb) (56.1.0)\n",
            "Collecting smmap<5,>=3.0.1\n",
            "  Downloading https://files.pythonhosted.org/packages/68/ee/d540eb5e5996eb81c26ceffac6ee49041d473bc5125f2aa995cf51ec1cf1/smmap-4.0.0-py2.py3-none-any.whl\n",
            "Building wheels for collected packages: pathtools, subprocess32\n",
            "  Building wheel for pathtools (setup.py) ... \u001b[?25l\u001b[?25hdone\n",
            "  Created wheel for pathtools: filename=pathtools-0.1.2-cp37-none-any.whl size=8786 sha256=08ee4278e87ac4144135fef470ac271036934085a2f8191be37b30d3badf56b5\n",
            "  Stored in directory: /root/.cache/pip/wheels/0b/04/79/c3b0c3a0266a3cb4376da31e5bfe8bba0c489246968a68e843\n",
            "  Building wheel for subprocess32 (setup.py) ... \u001b[?25l\u001b[?25hdone\n",
            "  Created wheel for subprocess32: filename=subprocess32-3.5.4-cp37-none-any.whl size=6489 sha256=7f0435bf116bd7e5accc180732ccb13010c3dcab4ef6411a304f2b4232630b33\n",
            "  Stored in directory: /root/.cache/pip/wheels/68/39/1a/5e402bdfdf004af1786c8b853fd92f8c4a04f22aad179654d1\n",
            "Successfully built pathtools subprocess32\n",
            "Installing collected packages: smmap, gitdb, GitPython, pathtools, shortuuid, docker-pycreds, configparser, subprocess32, sentry-sdk, wandb\n",
            "Successfully installed GitPython-3.1.17 configparser-5.0.2 docker-pycreds-0.4.0 gitdb-4.0.7 pathtools-0.1.2 sentry-sdk-1.1.0 shortuuid-1.0.1 smmap-4.0.0 subprocess32-3.5.4 wandb-0.10.30\n"
          ],
          "name": "stdout"
        }
      ]
    },
    {
      "cell_type": "code",
      "metadata": {
        "colab": {
          "base_uri": "https://localhost:8080/"
        },
        "id": "Y4mzy8zEvGyg",
        "outputId": "f5ea70eb-48fb-4edd-845c-83f875bfd211"
      },
      "source": [
        "import wandb\n",
        "!wandb login"
      ],
      "execution_count": 65,
      "outputs": [
        {
          "output_type": "stream",
          "text": [
            "\u001b[34m\u001b[1mwandb\u001b[0m: You can find your API key in your browser here: https://wandb.ai/authorize\n",
            "\u001b[34m\u001b[1mwandb\u001b[0m: Paste an API key from your profile and hit enter: \n",
            "\u001b[34m\u001b[1mwandb\u001b[0m: Appending key for api.wandb.ai to your netrc file: /root/.netrc\n"
          ],
          "name": "stdout"
        }
      ]
    },
    {
      "cell_type": "code",
      "metadata": {
        "id": "1DQzLOIWvKXg"
      },
      "source": [
        "sweep_config_temp={\n",
        "  \"name\": \"DL Assign-3-without_attention_final\",\n",
        "  \"method\": \"random\",\n",
        "  'metric': {\n",
        "      'name': 'accuracy',\n",
        "      'goal': 'maximize'   \n",
        "    },\n",
        "  \"parameters\": {\n",
        "        \"input_embedding_size\": {\n",
        "            \"values\": [64, 256]\n",
        "        },\n",
        "        \"num_stack\":{\n",
        "            \"values\":[1, 2]\n",
        "        },\n",
        "        \"hidden_layer_size\":{\n",
        "            \"values\":[128,  256]  \n",
        "        },\n",
        "        \"cell_type\":{\n",
        "            \"values\":['RNN', 'GRU', 'LSTM']  \n",
        "        },\n",
        "        \"dropout\":{\n",
        "            \"values\": [0.2, 0.3]  \n",
        "        },\n",
        "        \"beam_size\":{\n",
        "            \"values\":[3, 5]\n",
        "        },\n",
        "        \n",
        "    }\n",
        "}"
      ],
      "execution_count": 66,
      "outputs": []
    },
    {
      "cell_type": "code",
      "metadata": {
        "colab": {
          "base_uri": "https://localhost:8080/"
        },
        "id": "A4rwH3rIvP2T",
        "outputId": "628d7968-2e79-4205-9545-f33a8736014d"
      },
      "source": [
        "sweep_id = wandb.sweep(sweep_config_temp, entity=\"cs20m014\", project=\"DL Assign-3-without_attention_final\")"
      ],
      "execution_count": 67,
      "outputs": [
        {
          "output_type": "stream",
          "text": [
            "Create sweep with ID: 9jsw3zzy\n",
            "Sweep URL: https://wandb.ai/cs20m014/DL%20Assign-3-without_attention_final/sweeps/9jsw3zzy\n"
          ],
          "name": "stdout"
        }
      ]
    },
    {
      "cell_type": "code",
      "metadata": {
        "id": "KotR7Yr9vT_5"
      },
      "source": [
        "hyperparameter_defaults = dict(\n",
        "    input_embedding_size=64,\n",
        "    num_stack=1,\n",
        "    hidden_layer_size=128,\n",
        "    cell_type='GRU',\n",
        "    dropout=0.2,\n",
        "    beam_size= 5,\n",
        "    )"
      ],
      "execution_count": 68,
      "outputs": []
    },
    {
      "cell_type": "code",
      "metadata": {
        "id": "LHc1I-e9vUDO"
      },
      "source": [
        "def train():\n",
        "  # wandb.init(config=hyperparameter_defaults)\n",
        "  # config = wandb.config\n",
        "\n",
        "  embed_size=config.input_embedding_size\n",
        "  n_stack=config.num_stack\n",
        "  layer_type=config.cell_type\n",
        "  l_size=config.hidden_layer_size\n",
        "  dropout=config.dropout\n",
        "  beam_size=config.beam_size\n",
        "  epochs=10\n",
        "\n",
        "  # accuracy = model_run(5, n_filters, multiplier,drop,fSize, activation, batchNorm)\n",
        "  val_accuracy = model_run(n_stack,layer_type,l_size,dropout,beam_size,epochs)\n",
        "\n",
        "  wandb.log({\n",
        "        \"Val Accuracy\": val_accuracy})"
      ],
      "execution_count": 69,
      "outputs": []
    },
    {
      "cell_type": "code",
      "metadata": {
        "id": "t8SUyjQkvUG5"
      },
      "source": [
        "wandb.agent(sweep_id, train)"
      ],
      "execution_count": null,
      "outputs": []
    },
    {
      "cell_type": "code",
      "metadata": {
        "id": "bVpUt92JvUKQ"
      },
      "source": [
        ""
      ],
      "execution_count": null,
      "outputs": []
    },
    {
      "cell_type": "code",
      "metadata": {
        "colab": {
          "base_uri": "https://localhost:8080/",
          "height": 35
        },
        "id": "2Wd_cC92v4fi",
        "outputId": "4989cf9f-351e-4e65-b158-b3586d9b8b1e"
      },
      "source": [
        "\"\"\"For quest 4 part-b --> to get the sample inputs and predictions on best model\"\"\""
      ],
      "execution_count": 70,
      "outputs": [
        {
          "output_type": "execute_result",
          "data": {
            "application/vnd.google.colaboratory.intrinsic+json": {
              "type": "string"
            },
            "text/plain": [
              "'For quest 4 part-b --> to get the sample inputs and predictions on best model'"
            ]
          },
          "metadata": {
            "tags": []
          },
          "execution_count": 70
        }
      ]
    },
    {
      "cell_type": "code",
      "metadata": {
        "id": "x5ScHlmVv4jr"
      },
      "source": [
        "accuracy, pred_words = model_run(2, \"GRU\", 128, 0.2, 3, 10)"
      ],
      "execution_count": 79,
      "outputs": []
    },
    {
      "cell_type": "code",
      "metadata": {
        "id": "KFCs-Os9v48d"
      },
      "source": [
        "#Writing pred_words to .txt file\n",
        "with open('/content/result.txt', 'w') as writefile:\n",
        "  for word in pred_words:\n",
        "    writefile.write(word)"
      ],
      "execution_count": null,
      "outputs": []
    },
    {
      "cell_type": "code",
      "metadata": {
        "id": "x9M0rTff70n6"
      },
      "source": [
        ""
      ],
      "execution_count": null,
      "outputs": []
    }
  ]
}