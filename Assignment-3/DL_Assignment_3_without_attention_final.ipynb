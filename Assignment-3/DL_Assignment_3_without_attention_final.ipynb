{
  "nbformat": 4,
  "nbformat_minor": 0,
  "metadata": {
    "colab": {
      "name": "DL_Assignment_3_without_attention_final.ipynb",
      "provenance": [],
      "collapsed_sections": [],
      "include_colab_link": true
    },
    "kernelspec": {
      "name": "python3",
      "display_name": "Python 3"
    },
    "language_info": {
      "name": "python"
    }
  },
  "cells": [
    {
      "cell_type": "markdown",
      "metadata": {
        "id": "view-in-github",
        "colab_type": "text"
      },
      "source": [
        "<a href=\"https://colab.research.google.com/github/apoorva2810/CS6910/blob/main/Assignment-3/DL_Assignment_3_without_attention_final.ipynb\" target=\"_parent\"><img src=\"https://colab.research.google.com/assets/colab-badge.svg\" alt=\"Open In Colab\"/></a>"
      ]
    },
    {
      "cell_type": "code",
      "metadata": {
        "id": "sj4HyabDW-dF"
      },
      "source": [
        "import torch\n",
        "import matplotlib.pyplot as plt\n",
        "import numpy as np\n",
        "import torch\n",
        "from keras.models import Model\n",
        "from keras.layers import Input, LSTM, Dense, GRU,SimpleRNN\n",
        "from torch.autograd import Variable\n",
        "from torch.nn import Linear, ReLU, CrossEntropyLoss, Sequential, Conv2d, MaxPool2d, Module, Softmax, BatchNorm2d, Dropout\n",
        "from torch.optim import Adam, SGD\n",
        "import tensorflow as tf\n",
        "from tensorflow import keras\n",
        "from keras.models import Model\n",
        "from keras.layers import Input, LSTM, Dense, RNN,GRU\n",
        "import pandas as pd\n",
        "from keras.preprocessing.image import ImageDataGenerator\n",
        "from keras.utils import to_categorical\n",
        "from keras.models import Sequential\n",
        "from keras.layers import Conv2D\n",
        "from keras.layers import MaxPooling2D\n",
        "from keras.layers import Dense,BatchNormalization\n",
        "from keras.layers import Flatten\n",
        "import math\n",
        "\n",
        "from keras.layers import Dropout\n",
        "import random\n",
        "import os\n",
        "from google.colab import drive\n",
        "import torch\n",
        "import torch.nn as nn\n",
        "import torch.nn.functional as F\n",
        "from torch.utils.data import DataLoader\n",
        "from torchvision import datasets, transforms\n",
        "from torchvision.utils import make_grid\n",
        "from tqdm import tqdm\n",
        "from PIL import Image\n",
        "import pickle\n",
        "from keras.models import Model\n",
        "from keras.layers import Input\n",
        "from tensorflow.keras import layers, models, Model, optimizers\n",
        "import tensorflow.keras as K\n",
        "\n",
        "from keras.callbacks import ReduceLROnPlateau\n",
        "from keras.callbacks import ModelCheckpoint\n",
        "from sklearn.model_selection import train_test_split"
      ],
      "execution_count": null,
      "outputs": []
    },
    {
      "cell_type": "code",
      "metadata": {
        "colab": {
          "base_uri": "https://localhost:8080/"
        },
        "id": "6OnccMDDXUDs",
        "outputId": "143636a9-8d38-4084-b13f-228a50028eb0"
      },
      "source": [
        "drive.mount('/content/gdrive')"
      ],
      "execution_count": null,
      "outputs": [
        {
          "output_type": "stream",
          "text": [
            "Mounted at /content/gdrive\n"
          ],
          "name": "stdout"
        }
      ]
    },
    {
      "cell_type": "code",
      "metadata": {
        "id": "WhIzJTU8XZsG"
      },
      "source": [
        "data_path1=\"/content/gdrive/MyDrive/hi.translit.sampled.dev.tsv\"\n",
        "data_path2=\"/content/gdrive/MyDrive/hi.translit.sampled.test.tsv\"\n",
        "\n",
        "with open(data_path2, \"r\", encoding=\"utf-8\") as f:\n",
        "    test = f.read().split(\"\\n\")\n",
        "\n",
        "data_path3=\"/content/gdrive/MyDrive/hi.translit.sampled.train.tsv\"\n",
        "\n",
        "with open(data_path3, \"r\", encoding=\"utf-8\") as f:\n",
        "    train = f.read().split(\"\\n\")"
      ],
      "execution_count": null,
      "outputs": []
    },
    {
      "cell_type": "code",
      "metadata": {
        "colab": {
          "base_uri": "https://localhost:8080/"
        },
        "id": "g-j_Rw1MYPTh",
        "outputId": "9d46223d-b9c3-467a-dd6f-7142f6ddbd33"
      },
      "source": [
        "len(train)"
      ],
      "execution_count": null,
      "outputs": [
        {
          "output_type": "execute_result",
          "data": {
            "text/plain": [
              "44205"
            ]
          },
          "metadata": {
            "tags": []
          },
          "execution_count": 5
        }
      ]
    },
    {
      "cell_type": "code",
      "metadata": {
        "id": "VwqZdDSwXpdP"
      },
      "source": [
        "# batch_size = 64  # Batch size for training.\n",
        "# latent_dim = 256  # Latent dimensionality of the encoding space.\n",
        "\n"
      ],
      "execution_count": null,
      "outputs": []
    },
    {
      "cell_type": "code",
      "metadata": {
        "id": "QXz5ZgogYMT3"
      },
      "source": [
        ""
      ],
      "execution_count": null,
      "outputs": []
    },
    {
      "cell_type": "code",
      "metadata": {
        "id": "JcAJ_6ymXsVh"
      },
      "source": [
        "data_path=data_path3\n",
        "\n",
        "# Vectorize the data.\n",
        "input_texts = []\n",
        "target_texts = []\n",
        "\n",
        "with open(data_path, \"r\", encoding=\"utf-8\") as f:\n",
        "    lines = f.read().split(\"\\n\")\n",
        "for line in lines[: len(lines) - 1]:\n",
        "    target_text, input_text,_ = line.split(\"\\t\")\n",
        "\n",
        "    ##Appending '\\t' and '\\n' for every word in target_texts\n",
        "    target_text = \"\\t\" + target_text + \"\\n\"\n",
        "    input_texts.append(input_text)\n",
        "    target_texts.append(target_text)\n",
        "\n",
        "\n"
      ],
      "execution_count": null,
      "outputs": []
    },
    {
      "cell_type": "code",
      "metadata": {
        "colab": {
          "base_uri": "https://localhost:8080/",
          "height": 35
        },
        "id": "QhPsvba2mp3o",
        "outputId": "c5ede8be-ba81-443b-d2e9-ee0143401ff3"
      },
      "source": [
        "input_texts[-1]"
      ],
      "execution_count": null,
      "outputs": [
        {
          "output_type": "execute_result",
          "data": {
            "application/vnd.google.colaboratory.intrinsic+json": {
              "type": "string"
            },
            "text/plain": [
              "'om'"
            ]
          },
          "metadata": {
            "tags": []
          },
          "execution_count": 43
        }
      ]
    },
    {
      "cell_type": "code",
      "metadata": {
        "id": "AoRMH7-hbTz5"
      },
      "source": [
        "\"\"\"Preparing set for unique imput and target characters\"\"\"\n",
        "input_characters = set()\n",
        "target_characters = set()\n",
        "\n",
        "for i in range( len(input_texts)):\n",
        "  for char in input_texts[i]:\n",
        "    input_characters.add(char)\n",
        "\n",
        "  for char in target_texts[i]:\n",
        "    target_characters.add(char)\n",
        "\n",
        "\n",
        "#Convert set to list\n",
        "input_characters = list(input_characters)\n",
        "target_characters = list(target_characters)"
      ],
      "execution_count": null,
      "outputs": []
    },
    {
      "cell_type": "code",
      "metadata": {
        "id": "19MhzAZscVpv"
      },
      "source": [
        "\"\"\"Preparing dictionary for input characters and target characters\"\"\"\n",
        "input_token_index = dict([(char, i) for i, char in enumerate(input_characters)])\n",
        "target_token_index = dict([(char, i) for i, char in enumerate(target_characters)])\n",
        "\n",
        "##Finding the length of maximum input word and maximum target word\n",
        "\n",
        "max_encoder_seq_length=-1\n",
        "for i in input_texts:\n",
        "  if len(i)>max_encoder_seq_length:\n",
        "    max_encoder_seq_length=len(i)\n",
        "\n",
        "max_decoder_seq_length=-1\n",
        "for i in target_texts:\n",
        "  if len(i)>max_decoder_seq_length:\n",
        "    max_decoder_seq_length=len(i)\n",
        "\n",
        "num_encoder_tokens = len(input_characters)\n",
        "num_decoder_tokens = len(target_characters)\n",
        "\n",
        "target_token_index[\" \"]=65\n",
        "input_token_index[\" \"]=26"
      ],
      "execution_count": null,
      "outputs": []
    },
    {
      "cell_type": "code",
      "metadata": {
        "colab": {
          "base_uri": "https://localhost:8080/"
        },
        "id": "VP_o31BAaOiT",
        "outputId": "0cd9b02d-e835-47e4-b852-955b1da84d4b"
      },
      "source": [
        "max_encoder_seq_length, max_decoder_seq_length"
      ],
      "execution_count": null,
      "outputs": [
        {
          "output_type": "execute_result",
          "data": {
            "text/plain": [
              "(20, 21)"
            ]
          },
          "metadata": {
            "tags": []
          },
          "execution_count": 47
        }
      ]
    },
    {
      "cell_type": "code",
      "metadata": {
        "id": "4YG8iGELaOlr"
      },
      "source": [
        "#Train and validation split of training data\n",
        "inputTrain, inputValTrain, targetTrain, targetValTest = train_test_split(input_texts, target_texts,\n",
        "                                                    test_size = 0.1,\n",
        "                                                    random_state = 1) "
      ],
      "execution_count": null,
      "outputs": []
    },
    {
      "cell_type": "code",
      "metadata": {
        "colab": {
          "base_uri": "https://localhost:8080/"
        },
        "id": "WUzuVuO0ihPH",
        "outputId": "9ffc23ec-816e-4d6b-8f2b-bccd63a129cc"
      },
      "source": [
        "print(len(inputTrain), len(targetTrain))\n",
        "print(len(inputValTrain), len(targetValTest))"
      ],
      "execution_count": null,
      "outputs": [
        {
          "output_type": "stream",
          "text": [
            "39783 39783\n",
            "4421 4421\n"
          ],
          "name": "stdout"
        }
      ]
    },
    {
      "cell_type": "code",
      "metadata": {
        "id": "KRAlX2rXihSA"
      },
      "source": [
        "encoder_input_data = np.zeros(\n",
        "    (len(inputTrain), max_encoder_seq_length, num_encoder_tokens+1), dtype=\"float32\"\n",
        ")\n",
        "decoder_input_data = np.zeros(\n",
        "    (len(inputTrain), max_decoder_seq_length, num_decoder_tokens+1), dtype=\"float32\"\n",
        ")\n",
        "decoder_target_data = np.zeros(\n",
        "    (len(inputTrain), max_decoder_seq_length, num_decoder_tokens+1), dtype=\"float32\"\n",
        ")"
      ],
      "execution_count": null,
      "outputs": []
    },
    {
      "cell_type": "code",
      "metadata": {
        "colab": {
          "base_uri": "https://localhost:8080/"
        },
        "id": "j8BQOfZMi5lk",
        "outputId": "893c8929-6407-4e2a-c792-994e688344af"
      },
      "source": [
        "print(encoder_input_data.shape)\n",
        "print(decoder_input_data.shape)\n",
        "print(decoder_target_data.shape)"
      ],
      "execution_count": null,
      "outputs": [
        {
          "output_type": "stream",
          "text": [
            "(39783, 20, 27)\n",
            "(39783, 21, 66)\n",
            "(39783, 21, 66)\n"
          ],
          "name": "stdout"
        }
      ]
    },
    {
      "cell_type": "code",
      "metadata": {
        "id": "bvaHG3LpihUx"
      },
      "source": [
        "\"\"\"Creating one hot vector for encoder inputs, decoder inputs, and decoder targer\"\"\"\n",
        "\n",
        "for i, (input_text, target_text) in enumerate(zip(inputTrain, targetTrain)):\n",
        "\n",
        "    for t, char in enumerate(input_text):\n",
        "        encoder_input_data[i, t, input_token_index[char]] = 1.0\n",
        "    encoder_input_data[i, t + 1 :, input_token_index[\" \"]] = 1.0\n",
        "   \n",
        "\n",
        "for i, (input_text, target_text) in enumerate(zip(inputTrain, targetTrain)):\n",
        "\n",
        "    for t, char in enumerate(target_text):\n",
        "        decoder_input_data[i, t, target_token_index[char]] = 1.0\n",
        "        if t > 0:\n",
        "            decoder_target_data[i, t - 1, target_token_index[char]] = 1.0\n",
        "    \n",
        "    decoder_input_data[i, t + 1 :, target_token_index[\" \"]] = 1.0\n",
        "    decoder_target_data[i, t:, target_token_index[\" \"]] = 1.0"
      ],
      "execution_count": null,
      "outputs": []
    },
    {
      "cell_type": "code",
      "metadata": {
        "id": "OCzl-ixuihoY"
      },
      "source": [
        "#For inputValTrain\n",
        "\n",
        "encoder_input_val = np.zeros(\n",
        "    (len(inputValTrain), max_encoder_seq_length, num_encoder_tokens+1), dtype=\"float32\"\n",
        ")\n",
        "\n",
        "for i, input_text in enumerate(inputValTrain):\n",
        "    for t, char in enumerate(input_text):\n",
        "        encoder_input_val[i, t, input_token_index[char]] = 1.0\n",
        "    encoder_input_val[i, t + 1 :, input_token_index[\" \"]] = 1.0"
      ],
      "execution_count": null,
      "outputs": []
    },
    {
      "cell_type": "code",
      "metadata": {
        "id": "A_OfskHuihrG"
      },
      "source": [
        "\"\"\"Function returns word level accuracy and predicted words\"\"\"\n",
        "\n",
        "def  ValAcc2(x,y,num_stack,model_type,enc_model,dec_model,beam_size):\n",
        "  \n",
        "  correct_predict=0\n",
        "  predicted_words=[]\n",
        "  for i, input_text in enumerate(x):\n",
        "    \n",
        "    # for t, char in enumerate(input_text):\n",
        "    #     onehotlist[i, t, input_token_index[char]] = 1.0\n",
        "    # onehotlist[i, t + 1 :, input_token_index[\" \"]] = 1.0\n",
        "\n",
        "    input_seq = x[i:i+1]\n",
        "    if num_stack==2:\n",
        "      decoded_word = decode_sequence2(input_seq,model_type,enc_model,dec_model,beam_size)\n",
        "    else :\n",
        "       decoded_word = decode_sequence1(input_seq,model_type,enc_model,dec_model,beam_size)\n",
        "\n",
        "    \n",
        "    #print(decoded_word)\n",
        "    #print(\"---\",y[i])\n",
        "    predicted_words.append(decoded_word)\n",
        "\n",
        "    if decoded_word==y[i].split('\\t')[1].split('\\n')[0]:\n",
        "      correct_predict=correct_predict+1\n",
        "  \n",
        "  \n",
        "  valid_acc=correct_predict/len(x)    \n",
        "  return valid_acc, predicted_words\n",
        "\n",
        "\n",
        "\n",
        "\n"
      ],
      "execution_count": null,
      "outputs": []
    },
    {
      "cell_type": "code",
      "metadata": {
        "id": "NrE-2IRMpU2b"
      },
      "source": [
        "reverse_input_char_index=dict()\n",
        "for char, i in input_token_index.items():\n",
        "  reverse_input_char_index[i]=char\n",
        "\n",
        "reverse_target_char_index=dict()\n",
        "for char, i in target_token_index.items():\n",
        "  reverse_target_char_index[i]=char"
      ],
      "execution_count": null,
      "outputs": []
    },
    {
      "cell_type": "code",
      "metadata": {
        "id": "3G1TqUbZpu4Z"
      },
      "source": [
        "def decode_sequence1(input_seq,model_type,encoder_model,decoder_model,beam_size):\n",
        "    states_value = encoder_model.predict(input_seq)\n",
        "    #print(np.array(states_value).shape)\n",
        "\n",
        "    target_seq = np.zeros((1, 1, num_decoder_tokens+1))\n",
        "    target_seq[0, 0, target_token_index['\\t']] = 1.\n",
        "\n",
        "    stop_condition = False\n",
        "    decoded_sentence = ''\n",
        "    out_tokens2d=[]\n",
        "    while True:\n",
        "        if model_type==\"GRU\" or model_type==\"RNN\":\n",
        "          output_tokens,h = decoder_model.predict(\n",
        "              [target_seq] + [states_value])\n",
        "        else:\n",
        "          output_tokens, h, c = decoder_model.predict(\n",
        "              [target_seq] + [states_value])\n",
        "        out_tokens2d.append(output_tokens)\n",
        "        # Sample a token\n",
        "        sampled_token_index = np.argmax(output_tokens[0, -1, :])\n",
        "        sampled_char = reverse_target_char_index[sampled_token_index]\n",
        "        decoded_sentence += sampled_char\n",
        "\n",
        "        if (sampled_char == '\\n' or\n",
        "           len(decoded_sentence) > max_decoder_seq_length):\n",
        "            # stop_condition = True\n",
        "            break\n",
        "\n",
        "        # Update the target sequence (of length 1).\n",
        "        target_seq = np.zeros((1, 1, num_decoder_tokens+1))\n",
        "        target_seq[0, 0, sampled_token_index] = 1.\n",
        "\n",
        "        # Update states\n",
        "        if model_type==\"GRU\" or model_type==\"RNN\":\n",
        "          states_value = [h]\n",
        "        else:\n",
        "          states_value = [h, c]\n",
        "\n",
        "    out_tokens2d=np.array(out_tokens2d)\n",
        "    #print(out_tokens2d.shape[0])\n",
        "    len_word=out_tokens2d.shape[0]\n",
        "    len_allchars=out_tokens2d.shape[3]\n",
        "    #print(input_seq.shape)\n",
        "    out_tokens2d=out_tokens2d.reshape(len_word,len_allchars)\n",
        "    #print(out_tokens2d.shape)\n",
        "    #return decoded_sentence\n",
        "\n",
        "    \"\"\"Adding beam search\"\"\"\n",
        "    bsd_out=beam_search_decoder(out_tokens2d,reverse_target_char_index ,beam_size)\n",
        "\n",
        "    ans=bsd_out[0][0].split('\\n')\n",
        "    #print(ans[0])\n",
        "    return ans[0]\n",
        "\n"
      ],
      "execution_count": null,
      "outputs": []
    },
    {
      "cell_type": "code",
      "metadata": {
        "id": "0iCd9KO2qqpH"
      },
      "source": [
        "def decode_sequence2(input_seq,model_type,encoder_model,decoder_model,beam_size):\n",
        "    \n",
        "    states_value = encoder_model.predict(input_seq)\n",
        "\n",
        "    target_seq = np.zeros((1, 1, num_decoder_tokens+1))\n",
        "    \n",
        "    target_seq[0, 0, target_token_index['\\t']] = 1.\n",
        "\n",
        "    # stop_condition = False\n",
        "    decoded_sentence = ''\n",
        "    out_tokens2d=[]\n",
        "    while True:\n",
        "\n",
        "      if model_type==\"LSTM\":\n",
        "        output_tokens, h, c, h1, c1 = decoder_model.predict(\n",
        "            [target_seq] + states_value)\n",
        "      else:\n",
        "        output_tokens, h1= decoder_model.predict(\n",
        "            [target_seq] + states_value)\n",
        "      out_tokens2d.append(output_tokens)\n",
        "        \n",
        "      sampled_token_index = np.argmax(output_tokens[0, -1, :])\n",
        "      sampled_char = reverse_target_char_index[sampled_token_index]\n",
        "      decoded_sentence += sampled_char\n",
        "\n",
        "      if (sampled_char == '\\n' or\n",
        "          len(decoded_sentence) > max_decoder_seq_length):\n",
        "          # stop_condition = True\n",
        "          break\n",
        "\n",
        "      \n",
        "      target_seq = np.zeros((1, 1, num_decoder_tokens+1))\n",
        "      target_seq[0, 0, sampled_token_index] = 1.\n",
        "\n",
        "      if model_type==\"LSTM\":\n",
        "        states_value = [h, c, h1, c1]\n",
        "      else :\n",
        "        states_value = [ h1]\n",
        "\n",
        "    out_tokens2d=np.array(out_tokens2d)\n",
        "    #print(out_tokens2d.shape[0])\n",
        "    len_word=out_tokens2d.shape[0]\n",
        "    len_allchars=out_tokens2d.shape[3]\n",
        "    #print(input_seq.shape)\n",
        "    out_tokens2d=out_tokens2d.reshape(len_word,len_allchars)\n",
        "    #print(out_tokens2d.shape)\n",
        "    #return decoded_sentence\n",
        "\n",
        "    \"\"\"Adding beam search\"\"\"\n",
        "    bsd_out=beam_search_decoder(out_tokens2d,reverse_target_char_index ,beam_size)\n",
        "    #decoded_sentence=bsd_out[0]\n",
        "    #return decoded_sentence\n",
        "    ans=bsd_out[0][0].split('\\n')\n",
        "    #print(ans[0])\n",
        "    return ans[0]\n"
      ],
      "execution_count": null,
      "outputs": []
    },
    {
      "cell_type": "code",
      "metadata": {
        "id": "FL6R0PjSsNtM"
      },
      "source": [
        "def beam_search_decoder(predictedWord, target_sequence_index,top_k=3):\n",
        "\n",
        "  #initially\n",
        "  output_sequences=[(\"\",0)]\n",
        "\n",
        "  for token_probs in predictedWord:\n",
        "    new_sequences=[]\n",
        "\n",
        "    #append new tokens to old sequences and re-score\n",
        "    for old_seq, old_score in output_sequences:\n",
        "      for char_index in range(len(token_probs)):\n",
        "        new_seq = old_seq+target_sequence_index[char_index] \n",
        "\n",
        "        \n",
        "        new_score= old_score + math.log(token_probs[char_index]) \n",
        "        #DOUBT: logging based of ASCII Value might be incorrect --> Clear\n",
        "\n",
        "        new_sequences.append((new_seq, new_score))\n",
        "    \n",
        "    output_sequences=sorted(new_sequences, key= lambda val: val[1], reverse=True)\n",
        "\n",
        "    #Selecting only top-k scores\n",
        "    output_sequences = output_sequences[:top_k]\n",
        "\n",
        "  \n",
        "  return output_sequences\n",
        "\n",
        "\n",
        "  "
      ],
      "execution_count": null,
      "outputs": []
    },
    {
      "cell_type": "code",
      "metadata": {
        "id": "FX9Wp8THtLmP"
      },
      "source": [
        "def model_run(num_stack,type,layer_size,drop,beam_size=1,epochs=1):\n",
        "  if num_stack==1:\n",
        "    if type==\"RNN\":\n",
        "      encoder_inputs = Input(shape=(None, num_encoder_tokens+1))\n",
        "      encoder = SimpleRNN(layer_size, return_state=True,dropout=drop)\n",
        "      encoder_outputs, state_h = encoder(encoder_inputs)\n",
        "      encoder_states = [state_h]\n",
        "      decoder_inputs = Input(shape=(None, num_decoder_tokens+1))\n",
        "      decoder_rnn = SimpleRNN(layer_size, return_sequences=True, return_state=True,dropout=drop)\n",
        "      decoder_outputs, _ = decoder_rnn(decoder_inputs,\n",
        "                                          initial_state=encoder_states)\n",
        "      dropout = Dropout(rate=drop)\n",
        "      final= dropout(decoder_outputs)\n",
        "      decoder_dense = Dense(num_decoder_tokens+1, activation='softmax')\n",
        "      decoder_outputs = decoder_dense(final)\n",
        "      model = Model([encoder_inputs, decoder_inputs], decoder_outputs)\n",
        "\n",
        "    elif type==\"GRU\":\n",
        "      encoder_inputs = Input(shape=(None, num_encoder_tokens+1))\n",
        "      encoder = GRU(layer_size, return_state=True,dropout=drop)\n",
        "      encoder_outputs, state_h = encoder(encoder_inputs)\n",
        "      encoder_states = [state_h]\n",
        "      decoder_inputs = Input(shape=(None, num_decoder_tokens+1))\n",
        "      decoder_gru = GRU(layer_size, return_sequences=True, return_state=True,dropout=drop)\n",
        "      decoder_outputs, _ = decoder_gru(decoder_inputs,\n",
        "                                          initial_state=encoder_states)\n",
        "      dropout = Dropout(rate=drop)\n",
        "      final= dropout(decoder_outputs)\n",
        "      decoder_dense = Dense(num_decoder_tokens+1, activation='softmax')\n",
        "      decoder_outputs = decoder_dense(final)\n",
        "      model = Model([encoder_inputs, decoder_inputs], decoder_outputs)\n",
        "    else :\n",
        "      encoder_inputs = Input(shape=(None, num_encoder_tokens+1))\n",
        "      encoder = LSTM(layer_size, return_state=True,dropout=drop)\n",
        "      encoder_outputs, state_h, state_c = encoder(encoder_inputs)\n",
        "      \n",
        "      encoder_states = [state_h, state_c]\n",
        "      decoder_inputs = Input(shape=(None, num_decoder_tokens+1))\n",
        "      \n",
        "      decoder_lstm = LSTM(layer_size, return_sequences=True, return_state=True,dropout=drop)\n",
        "      decoder_outputs, _, _ = decoder_lstm(decoder_inputs,\n",
        "                                          initial_state=encoder_states)\n",
        "      dropout = Dropout(rate=drop)\n",
        "      final= dropout(decoder_outputs)\n",
        "      decoder_dense = Dense(num_decoder_tokens+1, activation='softmax')\n",
        "      decoder_outputs = decoder_dense(final)\n",
        "      model = Model([encoder_inputs, decoder_inputs], decoder_outputs)\n",
        "    \n",
        "\n",
        "\n",
        "  elif num_stack==2:\n",
        "    if type==\"RNN\":\n",
        "            \n",
        "            \n",
        "            \n",
        "            encoder_inputs = Input(shape=(None, num_encoder_tokens+1))\n",
        "\n",
        "            e_outputs, h1 = SimpleRNN(layer_size, return_state=True, return_sequences=True,dropout=drop)(encoder_inputs) \n",
        "            _, h2 =SimpleRNN(layer_size, return_state=True,dropout=drop)(e_outputs) \n",
        "            encoder_states = [h1, h2]\n",
        "\n",
        "            decoder_inputs = Input(shape=(None, num_decoder_tokens+1))\n",
        "\n",
        "            out_layer1 = SimpleRNN(layer_size, return_sequences=True, return_state=True,dropout=drop)\n",
        "            d_outputs, dh1 = out_layer1(decoder_inputs,initial_state= [h1])\n",
        "            out_layer2 = SimpleRNN(layer_size, return_sequences=True, return_state=True,dropout=drop)\n",
        "            final, dh2 = out_layer2(d_outputs, initial_state= [h2])\n",
        "\n",
        "            dropout = Dropout(rate=drop)\n",
        "            final= dropout(final)\n",
        "\n",
        "            decoder_dense = Dense(num_decoder_tokens+1, activation='softmax')\n",
        "            decoder_outputs = decoder_dense(final)\n",
        "\n",
        "\n",
        "            model = Model([encoder_inputs, decoder_inputs], decoder_outputs)\n",
        "\n",
        "    elif type==\"GRU\":\n",
        "          \n",
        "          encoder_inputs = Input(shape=(None, num_encoder_tokens+1))\n",
        "\n",
        "          e_outputs, h1 = GRU(layer_size, return_state=True, return_sequences=True,dropout=drop)(encoder_inputs) \n",
        "          _, h2 =GRU(layer_size, return_state=True,dropout=drop)(e_outputs) \n",
        "          encoder_states = [h1, h2]\n",
        "\n",
        "          decoder_inputs = Input(shape=(None, num_decoder_tokens+1))\n",
        "\n",
        "          out_layer1 = GRU(layer_size, return_sequences=True, return_state=True,dropout=drop)\n",
        "          d_outputs, dh1 = out_layer1(decoder_inputs,initial_state= [h1])\n",
        "          out_layer2 = GRU(layer_size, return_sequences=True, return_state=True,dropout=drop)\n",
        "          final, dh2 = out_layer2(d_outputs, initial_state= [h2])\n",
        "\n",
        "          dropout = Dropout(rate=drop)\n",
        "          final= dropout(final)\n",
        "\n",
        "          decoder_dense = Dense(num_decoder_tokens+1, activation='softmax')\n",
        "          decoder_outputs = decoder_dense(final)\n",
        "\n",
        "\n",
        "          model = Model([encoder_inputs, decoder_inputs], decoder_outputs)\n",
        "\n",
        "    else:\n",
        "        encoder_inputs = Input(shape=(None, num_encoder_tokens+1))\n",
        "\n",
        "        e_outputs, h1, c1 = LSTM(layer_size, return_state=True, return_sequences=True,dropout=drop)(encoder_inputs) \n",
        "        _, h2, c2 = LSTM(layer_size, return_state=True,dropout=drop)(e_outputs) \n",
        "        encoder_states = [h1, c1, h2, c2]\n",
        "\n",
        "        decoder_inputs = Input(shape=(None, num_decoder_tokens+1))\n",
        "\n",
        "        out_layer1 = LSTM(layer_size, return_sequences=True, return_state=True,dropout=drop)\n",
        "        d_outputs, dh1, dc1 = out_layer1(decoder_inputs,initial_state= [h1, c1])\n",
        "        out_layer2 = LSTM(layer_size, return_sequences=True, return_state=True,dropout=drop)\n",
        "        final, dh2, dc2 = out_layer2(d_outputs, initial_state= [h2, c2])\n",
        "\n",
        "        dropout = Dropout(rate=drop)\n",
        "        final= dropout(final)\n",
        "\n",
        "\n",
        "\n",
        "        decoder_dense = Dense(num_decoder_tokens+1, activation='softmax')\n",
        "        decoder_outputs = decoder_dense(final)\n",
        "\n",
        "\n",
        "        model = Model([encoder_inputs, decoder_inputs], decoder_outputs)\n",
        "\n",
        "  model.compile(\n",
        "        optimizer=\"rmsprop\", loss=\"categorical_crossentropy\", metrics=[\"accuracy\"]\n",
        "    )\n",
        "  model.fit(\n",
        "        [encoder_input_data, decoder_input_data],\n",
        "        decoder_target_data,\n",
        "        batch_size=batch_size,\n",
        "        epochs=epochs,\n",
        "      \n",
        "   )\n",
        "   #Inference Model\n",
        "  if num_stack==1:\n",
        "    if type==\"LSTM\":\n",
        "      encoder_model = Model(encoder_inputs, encoder_states)\n",
        "      decoder_state_input_h = Input(shape=(layer_size,))\n",
        "      decoder_state_input_c = Input(shape=(layer_size,))\n",
        "      decoder_states_inputs = [decoder_state_input_h, decoder_state_input_c]\n",
        "      decoder_outputs, state_h, state_c = decoder_lstm(\n",
        "          decoder_inputs, initial_state=decoder_states_inputs)\n",
        "      decoder_states = [state_h, state_c]\n",
        "      decoder_outputs = decoder_dense(decoder_outputs)\n",
        "      decoder_model = Model(\n",
        "          [decoder_inputs] + decoder_states_inputs,\n",
        "          [decoder_outputs] + decoder_states)\n",
        "      \n",
        "    elif type==\"GRU\":\n",
        "      encoder_model = Model(encoder_inputs, encoder_states)\n",
        "      decoder_state_input_h = Input(shape=(layer_size,))\n",
        "      decoder_states_inputs = [decoder_state_input_h]\n",
        "      decoder_outputs, state_h= decoder_gru(\n",
        "          decoder_inputs, initial_state=decoder_states_inputs)\n",
        "      decoder_states = [state_h]\n",
        "      decoder_outputs = decoder_dense(decoder_outputs)\n",
        "      decoder_model = Model(\n",
        "          [decoder_inputs] + decoder_states_inputs,\n",
        "          [decoder_outputs] + decoder_states)\n",
        "    else:\n",
        "      encoder_model = Model(encoder_inputs, encoder_states)\n",
        "      decoder_state_input_h = Input(shape=(layer_size,))\n",
        "      decoder_states_inputs = [decoder_state_input_h]\n",
        "      decoder_outputs, state_h= decoder_rnn(\n",
        "          decoder_inputs, initial_state=decoder_states_inputs)\n",
        "      decoder_states = [state_h]\n",
        "      decoder_outputs = decoder_dense(decoder_outputs)\n",
        "      decoder_model = Model(\n",
        "          [decoder_inputs] + decoder_states_inputs,\n",
        "          [decoder_outputs] + decoder_states)\n",
        "\n",
        "\n",
        "  elif num_stack==2:\n",
        "    if type==\"LSTM\":\n",
        "      encoder_model = Model(encoder_inputs, encoder_states)\n",
        "\n",
        "      decoder_state_input_h = Input(shape=(layer_size,))\n",
        "      decoder_state_input_c = Input(shape=(layer_size,))\n",
        "      decoder_state_input_h1 = Input(shape=(layer_size,))\n",
        "      decoder_state_input_c1 = Input(shape=(layer_size,))\n",
        "      decoder_states_inputs = [decoder_state_input_h, decoder_state_input_c, \n",
        "                              decoder_state_input_h1, decoder_state_input_c1]\n",
        "      d_o, state_h, state_c = out_layer1(\n",
        "          decoder_inputs, initial_state=decoder_states_inputs[:2])\n",
        "      d_o, state_h1, state_c1 = out_layer2(\n",
        "          d_o, initial_state=decoder_states_inputs[-2:])\n",
        "      decoder_states = [state_h, state_c, state_h1, state_c1]\n",
        "      decoder_outputs = decoder_dense(d_o)\n",
        "      decoder_model = Model(\n",
        "          [decoder_inputs] + decoder_states_inputs,\n",
        "          [decoder_outputs] + decoder_states)\n",
        "\n",
        "\n",
        "    ##GRU\n",
        "    else :\n",
        "      encoder_model = Model(encoder_inputs, encoder_states)\n",
        "\n",
        "      decoder_state_input_h = Input(shape=(layer_size,))\n",
        "      #decoder_state_input_c = Input(shape=(layer_size,))\n",
        "      decoder_state_input_h1 = Input(shape=(layer_size,))\n",
        "      #decoder_state_input_c1 = Input(shape=(layer_size,))\n",
        "      decoder_states_inputs = [decoder_state_input_h,  \n",
        "                              decoder_state_input_h1]\n",
        "      d_o, state_h= out_layer1(\n",
        "          decoder_inputs, initial_state=decoder_states_inputs[:1])\n",
        "      d_o, state_h1= out_layer2(\n",
        "          d_o, initial_state=decoder_states_inputs[-1:])\n",
        "      decoder_states = [state_h, state_h1]\n",
        "      decoder_outputs = decoder_dense(d_o)\n",
        "      decoder_model = Model(\n",
        "          [decoder_inputs] + decoder_states_inputs,\n",
        "          [decoder_outputs] + [decoder_states])\n",
        "\n",
        "  return ValAcc2(encoder_input_val[0:4000:8], targetValTest[0:4000:8],num_stack,type,encoder_model,decoder_model,beam_size)\n",
        "\n",
        "\n"
      ],
      "execution_count": null,
      "outputs": []
    }
  ]
}