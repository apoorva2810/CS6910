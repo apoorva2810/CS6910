{
  "nbformat": 4,
  "nbformat_minor": 0,
  "metadata": {
    "colab": {
      "name": "partA_final.ipynb",
      "provenance": [],
      "authorship_tag": "ABX9TyNptKnzdBdMpddjMbavwzcX",
      "include_colab_link": true
    },
    "kernelspec": {
      "name": "python3",
      "display_name": "Python 3"
    },
    "language_info": {
      "name": "python"
    },
    "accelerator": "GPU"
  },
  "cells": [
    {
      "cell_type": "markdown",
      "metadata": {
        "id": "view-in-github",
        "colab_type": "text"
      },
      "source": [
        "<a href=\"https://colab.research.google.com/github/apoorva2810/CS6910/blob/main/Assignment-2/partA/partA_final.ipynb\" target=\"_parent\"><img src=\"https://colab.research.google.com/assets/colab-badge.svg\" alt=\"Open In Colab\"/></a>"
      ]
    },
    {
      "cell_type": "code",
      "metadata": {
        "id": "ANyXSLdF1qZq"
      },
      "source": [
        "#Before executing the code, allocate GPU in Colab from: Edit -> Notebook Settings -> Hardware accelerator -> GPU"
      ],
      "execution_count": 1,
      "outputs": []
    },
    {
      "cell_type": "code",
      "metadata": {
        "id": "jsOSjZml2E9F"
      },
      "source": [
        "import torch\n",
        "import matplotlib.pyplot as plt\n",
        "import numpy as np\n",
        "import torch\n",
        "from torch.autograd import Variable\n",
        "from torch.nn import Linear, ReLU, CrossEntropyLoss, Sequential, Conv2d, MaxPool2d, Module, Softmax, BatchNorm2d, Dropout\n",
        "from torch.optim import Adam, SGD\n",
        "import tensorflow as tf\n",
        "from tensorflow import keras\n",
        "import pandas as pd\n",
        "from keras.preprocessing.image import ImageDataGenerator\n",
        "from keras.utils import to_categorical\n",
        "from keras.models import Sequential\n",
        "from keras.layers import Conv2D\n",
        "from keras.layers import MaxPooling2D\n",
        "from keras.layers import Dense,BatchNormalization\n",
        "from keras.layers import Flatten\n",
        "from keras.layers import Dropout\n",
        "import random\n",
        "import os\n",
        "from google.colab import drive\n",
        "from sklearn.model_selection import train_test_split\n",
        "\n",
        "import torch\n",
        "import torch.nn as nn\n",
        "import torch.nn.functional as F\n",
        "from torch.utils.data import DataLoader\n",
        "from torchvision import datasets, transforms\n",
        "from torchvision.utils import make_grid\n",
        "from tqdm import tqdm\n",
        "from PIL import Image\n",
        "import pickle\n",
        "from keras.models import Model\n",
        "from keras.layers import Input\n",
        "from tensorflow.keras import layers, models, Model, optimizers\n",
        "import tensorflow.keras as K\n",
        "\n",
        "from keras.callbacks import ReduceLROnPlateau\n",
        "from keras.callbacks import ModelCheckpoint\n",
        "from sklearn import preprocessing  \n",
        "from keras.layers import LeakyReLU\n",
        "from keras.models import Model\n",
        "\n"
      ],
      "execution_count": null,
      "outputs": []
    },
    {
      "cell_type": "code",
      "metadata": {
        "id": "03_4BtSq3UuB"
      },
      "source": [
        "#To access content from google drive\n",
        "drive.mount('/content/gdrive')"
      ],
      "execution_count": null,
      "outputs": []
    },
    {
      "cell_type": "code",
      "metadata": {
        "id": "mreYDBi73qlM"
      },
      "source": [
        "#Todo- first rename the file in drive\n",
        "#Use this link: https://drive.google.com/drive/folders/1yu5DuYlM_cvV5qwIKKnl3sHRG_G41aLB?usp=sharing\n",
        "#To make copy of pickled data and save it folder name 'Raw_data350'\n",
        "\n",
        "with open('/content/gdrive/My Drive/Raw_data350/xtrain','rb') as xT:\n",
        "  xTrain = pickle.load(xT)\n",
        "\n",
        "with open('/content/gdrive/My Drive/Raw_data350/ytrain','rb') as yT:\n",
        "  yTrain = pickle.load(yT)\n",
        "\n",
        "with open('/content/gdrive/My Drive/Raw_data350/xtest','rb') as xV:\n",
        "  xTest = pickle.load(xV)\n",
        "\n",
        "with open('/content/gdrive/My Drive/Raw_data350/ytest','rb') as yV:\n",
        "  yTest = pickle.load(yV)"
      ],
      "execution_count": null,
      "outputs": []
    },
    {
      "cell_type": "code",
      "metadata": {
        "id": "W42SpIgx36u0"
      },
      "source": [
        "xplot=[]\n",
        "yplot=[]\n",
        "x=10\n",
        "for i in range(30):\n",
        "  xplot.append(xTest[x])\n",
        "  yplot.append(yTest[x])\n",
        "  x=x+25\n"
      ],
      "execution_count": null,
      "outputs": []
    },
    {
      "cell_type": "code",
      "metadata": {
        "id": "JoQYmcFa5Vyj"
      },
      "source": [
        "len(yTest)"
      ],
      "execution_count": null,
      "outputs": []
    },
    {
      "cell_type": "code",
      "metadata": {
        "id": "ckp2Nuk75FdH"
      },
      "source": [
        "xTrain, xVal, yTrain, yVal= train_test_split(xTrain, yTrain, test_size=.1)"
      ],
      "execution_count": null,
      "outputs": []
    },
    {
      "cell_type": "code",
      "metadata": {
        "id": "oNE4az7w5S-N"
      },
      "source": [
        "len(xTrain)"
      ],
      "execution_count": null,
      "outputs": []
    },
    {
      "cell_type": "code",
      "metadata": {
        "id": "Qo28MjX15FZa"
      },
      "source": [
        "#Removing all the images which have only 2 dimensions and their respective y label from Train data\n",
        "\n",
        "for i in range(len(xTrain)):\n",
        "\n",
        "  xTrain[i]=np.array(xTrain[i])\n",
        "  \n",
        "  if(xTrain[i].ndim==2):\n",
        "    del xTrain[i]\n",
        "    del yTrain[i]\n",
        "\n",
        "xTrain=np.array(xTrain)\n"
      ],
      "execution_count": null,
      "outputs": []
    },
    {
      "cell_type": "code",
      "metadata": {
        "id": "UqICrURG5FDY"
      },
      "source": [
        "#Removing all the images which have only 2 dimensions and their respective y label from Validation data\n",
        "\n",
        "for i in range(len(xVal)):\n",
        "\n",
        "  xVal[i]=np.array(xVal[i])\n",
        "  \n",
        "  if(xVal[i].ndim==2):\n",
        "    del xVal[i]\n",
        "    del yVal[i]\n",
        "\n",
        "xVal=np.array(xVal)"
      ],
      "execution_count": null,
      "outputs": []
    },
    {
      "cell_type": "code",
      "metadata": {
        "id": "L1iq7qQZ5FAL"
      },
      "source": [
        "#Removing all the images which have only 2 dimensions and their respective y label from Train data\n",
        "\n",
        "for i in range(len(xTest)):\n",
        "\n",
        "  xTest[i]=np.array(xTest[i])\n",
        "  \n",
        "  if(xTest[i].ndim==2):\n",
        "    del xTest[i]\n",
        "    del yTest[i]\n",
        "\n",
        "xTest=np.array(xTest)\n",
        "type(xTrain)"
      ],
      "execution_count": null,
      "outputs": []
    },
    {
      "cell_type": "code",
      "metadata": {
        "id": "e1OloQFs5E7J"
      },
      "source": [
        "# Normalising xTrain\n",
        "for i in range(len(xTrain)):\n",
        "  # xTrain[i]= xTrain[i].astype('float32')\n",
        "  xTrain[i]= xTrain[i]/255.0"
      ],
      "execution_count": null,
      "outputs": []
    },
    {
      "cell_type": "code",
      "metadata": {
        "id": "bFgjHtMY5azT"
      },
      "source": [
        "# Normalising xVal\n",
        "for i in range(len(xVal)):\n",
        "\n",
        "  xVal[i]=xVal[i].astype('float32')\n",
        "  xVal[i]=xVal[i]/255.0"
      ],
      "execution_count": null,
      "outputs": []
    },
    {
      "cell_type": "code",
      "metadata": {
        "id": "DJCIp8Ks5c_q"
      },
      "source": [
        "# Normalising xTest\n",
        "for i in range(len(xTest)):\n",
        "\n",
        "  xTest[i]=xTest[i].astype('float32')\n",
        "  xTest[i]=xTest[i]/255.0"
      ],
      "execution_count": null,
      "outputs": []
    },
    {
      "cell_type": "code",
      "metadata": {
        "id": "XXrwxSgZ5av0"
      },
      "source": [
        "# Assigning the string labels of yTest and yTrain to integers\n",
        "pple = preprocessing.LabelEncoder()\n",
        "yTest=pple.fit_transform(yTest)\n",
        "yVal=pple.fit_transform(yVal)\n",
        "yTrain=pple.fit_transform(yTrain)"
      ],
      "execution_count": null,
      "outputs": []
    },
    {
      "cell_type": "code",
      "metadata": {
        "id": "uhBU7mx-5atD"
      },
      "source": [
        "#Change the integer y to one-hot vector\n",
        "def to_categorical(y, n_class):\n",
        "    return np.eye(n_class, dtype='uint8')[y]"
      ],
      "execution_count": null,
      "outputs": []
    },
    {
      "cell_type": "code",
      "metadata": {
        "id": "gPbVnLRN6Gyc"
      },
      "source": [
        "# getting the categorical value of yTrain and yTest using to_categorical() function\n",
        "yTrain_cat=[]\n",
        "for i in range(len(yTrain)):\n",
        "  cat_d=to_categorical(int(yTrain[i]),10)\n",
        "  yTrain_cat.append(cat_d)\n",
        "\n",
        "yVal_cat=[]\n",
        "for i in range(len(yVal)):\n",
        "  cat_d=to_categorical(int(yVal[i]),10)\n",
        "  yVal_cat.append(cat_d)\n",
        "\n",
        "yTest_cat=[]\n",
        "for i in range(len(yTest)):\n",
        "  cat_d=to_categorical(int(yTest[i]),10)\n",
        "  yTest_cat.append(cat_d)"
      ],
      "execution_count": null,
      "outputs": []
    },
    {
      "cell_type": "code",
      "metadata": {
        "id": "LZTS3ujS6Gtu"
      },
      "source": [
        "#changing the yTrain_cat and yTest_cat to numpy array \n",
        "\n",
        "yTrain_cat=np.array(yTrain_cat)\n",
        "yVal_cat=np.array(yVal_cat)\n",
        "yTest_cat=np.array(yTest_cat)"
      ],
      "execution_count": null,
      "outputs": []
    },
    {
      "cell_type": "code",
      "metadata": {
        "id": "8pjP7MPX6Gp9"
      },
      "source": [
        "print(yTrain_cat.shape)\n",
        "print(yVal_cat.shape)\n",
        "print(yTest_cat.shape)"
      ],
      "execution_count": null,
      "outputs": []
    },
    {
      "cell_type": "code",
      "metadata": {
        "id": "ohiEdSDY6GnM"
      },
      "source": [
        ""
      ],
      "execution_count": null,
      "outputs": []
    },
    {
      "cell_type": "code",
      "metadata": {
        "id": "6aSYQHTT6GjV"
      },
      "source": [
        ""
      ],
      "execution_count": null,
      "outputs": []
    }
  ]
}