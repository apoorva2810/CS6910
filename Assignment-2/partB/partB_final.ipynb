{
  "nbformat": 4,
  "nbformat_minor": 0,
  "metadata": {
    "colab": {
      "name": "partB_final.ipynb",
      "provenance": [],
      "collapsed_sections": [],
      "include_colab_link": true
    },
    "kernelspec": {
      "name": "python3",
      "display_name": "Python 3"
    },
    "language_info": {
      "name": "python"
    }
  },
  "cells": [
    {
      "cell_type": "markdown",
      "metadata": {
        "id": "view-in-github",
        "colab_type": "text"
      },
      "source": [
        "<a href=\"https://colab.research.google.com/github/apoorva2810/CS6910/blob/main/Assignment-2/partB/partB_final.ipynb\" target=\"_parent\"><img src=\"https://colab.research.google.com/assets/colab-badge.svg\" alt=\"Open In Colab\"/></a>"
      ]
    },
    {
      "cell_type": "code",
      "metadata": {
        "id": "Y1mGorHTAnKP"
      },
      "source": [
        "#Before executing the code, allocate GPU in Colab from: Edit -> Notebook Settings -> Hardware accelerator -> GPU"
      ],
      "execution_count": null,
      "outputs": []
    },
    {
      "cell_type": "code",
      "metadata": {
        "id": "LscLW4RyAU18"
      },
      "source": [
        "import torch\n",
        "import matplotlib.pyplot as plt\n",
        "import numpy as np\n",
        "import torch\n",
        "from torch.autograd import Variable\n",
        "from torch.nn import Linear, ReLU, CrossEntropyLoss, Sequential, Conv2d, MaxPool2d, Module, Softmax, BatchNorm2d, Dropout\n",
        "from torch.optim import Adam, SGD\n",
        "import tensorflow as tf\n",
        "from tensorflow import keras\n",
        "import pandas as pd\n",
        "from keras.preprocessing.image import ImageDataGenerator\n",
        "from keras.utils import to_categorical\n",
        "from keras.models import Sequential\n",
        "from keras.layers import Conv2D\n",
        "from keras.layers import MaxPooling2D\n",
        "from keras.layers import Dense,BatchNormalization\n",
        "from keras.layers import Flatten\n",
        "from keras.layers import Dropout\n",
        "import random\n",
        "import os\n",
        "from google.colab import drive\n",
        "import torch\n",
        "import torch.nn as nn\n",
        "import torch.nn.functional as F\n",
        "from torch.utils.data import DataLoader\n",
        "from torchvision import datasets, transforms\n",
        "from torchvision.utils import make_grid\n",
        "from tqdm import tqdm\n",
        "from PIL import Image\n",
        "import pickle\n",
        "from keras.models import Model\n",
        "from keras.layers import Input\n",
        "from tensorflow.keras import layers, models, Model, optimizers\n",
        "import tensorflow.keras as K\n",
        "\n",
        "from keras.callbacks import ReduceLROnPlateau\n",
        "from keras.callbacks import ModelCheckpoint\n",
        "import tensorflow.keras as K\n",
        "\n",
        "\n",
        "\n",
        "#Model\n",
        "from keras.applications import VGG16\n",
        "from keras.applications import VGG19\n",
        "from keras.applications import ResNet50\n",
        "from keras.applications import InceptionResNetV2\n",
        "from keras.applications import Xception\n",
        "\n"
      ],
      "execution_count": null,
      "outputs": []
    },
    {
      "cell_type": "code",
      "metadata": {
        "id": "tfoiTrD_ArUv"
      },
      "source": [
        "#To access content from google drive\n",
        "drive.mount('/content/gdrive')"
      ],
      "execution_count": null,
      "outputs": []
    },
    {
      "cell_type": "code",
      "metadata": {
        "id": "OL-GO1ctAtDG"
      },
      "source": [
        "#Todo- first rename the file in drive\n",
        "#Use this link: https://drive.google.com/drive/folders/1yu5DuYlM_cvV5qwIKKnl3sHRG_G41aLB?usp=sharing\n",
        "#To make copy of pickled data and save it folder name 'Raw_data350'\n",
        "\n",
        "with open('/content/gdrive/My Drive/Raw_data350/xtrain','rb') as xT:\n",
        "  xTrain = pickle.load(xT)\n",
        "\n",
        "with open('/content/gdrive/My Drive/Raw_data350/ytrain','rb') as yT:\n",
        "  yTrain = pickle.load(yT)\n",
        "\n",
        "with open('/content/gdrive/My Drive/Raw_data350/xtest','rb') as xV:\n",
        "  xTest = pickle.load(xV)\n",
        "\n",
        "with open('/content/gdrive/My Drive/Raw_data350/ytest','rb') as yV:\n",
        "  yTest = pickle.load(yV)"
      ],
      "execution_count": null,
      "outputs": []
    },
    {
      "cell_type": "code",
      "metadata": {
        "id": "7PuctFtlAtAQ"
      },
      "source": [
        "# resizing xTrain and xTest\n",
        "for i in range(len(xTrain)):\n",
        "  xTrain[i]=xTrain[i].resize((224,224))\n",
        "\n",
        "for i in range(len(xTest)):\n",
        "  xTest[i]=xTest[i].resize((224,224))"
      ],
      "execution_count": null,
      "outputs": []
    },
    {
      "cell_type": "code",
      "metadata": {
        "id": "c21sSGySAs9i"
      },
      "source": [
        "#Converting xTrain and xTest to numpy array \n",
        "for i in range(len(xTrain)):\n",
        "\n",
        "  xTrain[i]=np.array(xTrain[i])\n",
        "  \n",
        "  if(xTrain[i].ndim==2):\n",
        "    del xTrain[i]\n",
        "    del yTrain[i]\n",
        "\n",
        "xTrain=np.array(xTrain)\n",
        "\n",
        "for i in range(len(xTest)):\n",
        "\n",
        "  xTest[i]=np.array(xTest[i])\n",
        "  \n",
        "  if(xTest[i].ndim==2):\n",
        "    del xTest[i]\n",
        "    del yTest[i]\n",
        "\n",
        "xTest=np.array(xTest)\n",
        "\n",
        "\n",
        "# type(xTrain)"
      ],
      "execution_count": null,
      "outputs": []
    },
    {
      "cell_type": "code",
      "metadata": {
        "id": "nLigJ4KrAsrd"
      },
      "source": [
        "#Converting yTrain and yTest to integer classes\n",
        "from sklearn import preprocessing # change the string labels to integers \n",
        "\n",
        "le = preprocessing.LabelEncoder()\n",
        "yTest=le.fit_transform(yTest)\n",
        "yTrain=le.fit_transform(yTrain)"
      ],
      "execution_count": null,
      "outputs": []
    },
    {
      "cell_type": "code",
      "metadata": {
        "id": "iwecPFBZAsoV"
      },
      "source": [
        "#Converting to categorical data i.e. one hot vector\n",
        "def to_categorical(y, num_classes):\n",
        "    \"\"\" 1-hot encodes a tensor \"\"\"\n",
        "    return np.eye(num_classes, dtype='uint8')[y]\n",
        "\n",
        "yTrain_cat=[]\n",
        "for i in range(len(yTrain)):\n",
        "  cat_d=to_categorical(int(yTrain[i]),10)\n",
        "  yTrain_cat.append(cat_d)\n",
        "\n",
        "yTest_cat=[]\n",
        "for i in range(len(yTest)):\n",
        "  cat_d=to_categorical(int(yTest[i]),10)\n",
        "  yTest_cat.append(cat_d)"
      ],
      "execution_count": null,
      "outputs": []
    },
    {
      "cell_type": "code",
      "metadata": {
        "id": "pnviKYTOAskz"
      },
      "source": [
        "#Conveting yTrain_cat and yTest_cat to numpy array\n",
        "yTrain_cat=np.array(yTrain_cat)\n",
        "yTest_cat=np.array(yTest_cat)"
      ],
      "execution_count": null,
      "outputs": []
    },
    {
      "cell_type": "code",
      "metadata": {
        "id": "cVMTKtxRAsCa"
      },
      "source": [
        "yTest_cat.shape"
      ],
      "execution_count": null,
      "outputs": []
    },
    {
      "cell_type": "code",
      "metadata": {
        "id": "BSQuUaTkAgOj"
      },
      "source": [
        "xTrain[1].shape"
      ],
      "execution_count": null,
      "outputs": []
    },
    {
      "cell_type": "code",
      "metadata": {
        "id": "8zusAfADCK9T"
      },
      "source": [
        "#Function to alot model based input shape and number of output neuron\n",
        "def create_model(input_shape, n_out, hiddenLayers, model_type='InceptionResNetV2'):\n",
        "\n",
        "    if model_type=='VGG16':\n",
        "      pretrain_model= VGG16(\n",
        "          weights='imagenet', \n",
        "          include_top=False, \n",
        "          input_shape=input_shape)\n",
        "      \n",
        "    elif model_type=='VGG19':\n",
        "      pretrain_model = VGG19(\n",
        "          include_top=False, \n",
        "          weights='imagenet', \n",
        "          input_shape=input_shape) \n",
        "      \n",
        "\n",
        "    elif model_type=='ResNet50':\n",
        "      pretrain_model = ResNet50(\n",
        "          include_top=False, \n",
        "          weights=\"imagenet\", \n",
        "          input_shape=input_shape)\n",
        "\n",
        "\n",
        "    elif model_type=='InceptionResNetV2':\n",
        "      pretrain_model = InceptionResNetV2(\n",
        "          include_top=False, \n",
        "          weights='imagenet', \n",
        "          input_shape=input_shape)   \n",
        "\n",
        "\n",
        "    elif model_type=='Xception':\n",
        "      pretrain_model = Xception(\n",
        "          include_top=False, \n",
        "          weights='imagenet', \n",
        "          input_shape=input_shape) \n",
        "\n",
        "    x=pretrain_model.output\n",
        "    x = Flatten()(x)\n",
        "\n",
        "    if hiddenLayers=='Yes':\n",
        "      x = Dense(512, activation='relu')(x)\n",
        "      x = Dropout(0.5)(x)\n",
        "      x = Dense(128, activation='relu')(x)\n",
        "      x = Dropout(0.5)(x)\n",
        "\n",
        "\n",
        "    x = Dense(n_out, activation='softmax')(x)\n",
        "    model=Model(pretrain_model.input,x)\n",
        "    \n",
        "    return model"
      ],
      "execution_count": null,
      "outputs": []
    },
    {
      "cell_type": "code",
      "metadata": {
        "id": "EnnBbgaxCK3p"
      },
      "source": [
        "\"\"\"model structure decided here\"\"\"\n",
        "\n",
        "\n",
        "def model_layer_freeze(input_shape, n_out, hiddenLayers, trainLayers, model_type='InceptionResNetV2'):\n",
        "\n",
        "    model = create_model(input_shape, n_out, hiddenLayers, model_type)\n",
        "\n",
        "    if trainLayers=='Yes':\n",
        "      return model\n",
        "\n",
        "    \n",
        "    if model_type=='VGG16':\n",
        "      \n",
        "     \n",
        "      for layer in model.layers[:15]:\n",
        "        layer.trainable = False\n",
        "\n",
        "      \n",
        "    elif model_type=='VGG19':\n",
        "      \n",
        "      for layer in model.layers[:17]:\n",
        "        layer.trainable = False\n",
        "\n",
        "    elif model_type=='ResNet50':\n",
        "      \n",
        "      for layer in model.layers[:143]:\n",
        "        layer.trainable = False\n",
        "\n",
        "    elif model_type=='InceptionResNetV2':   \n",
        "\n",
        "      model.layers[2].trainable = False    \n",
        "\n",
        "    elif model_type=='Xception':\n",
        "      \n",
        "      for layer in model.layers[:116]:\n",
        "        layer.trainable = False\n",
        "\n",
        "    return model\n",
        "    \n"
      ],
      "execution_count": null,
      "outputs": []
    },
    {
      "cell_type": "code",
      "metadata": {
        "id": "NOq-cOpPC4Hq"
      },
      "source": [
        "#Wandb Part"
      ],
      "execution_count": null,
      "outputs": []
    },
    {
      "cell_type": "code",
      "metadata": {
        "id": "neIYceYRC4Kl"
      },
      "source": [
        "!pip install wandb"
      ],
      "execution_count": null,
      "outputs": []
    },
    {
      "cell_type": "code",
      "metadata": {
        "id": "fzSW5yB6C4NM"
      },
      "source": [
        "import wandb\n",
        "!wandb login"
      ],
      "execution_count": null,
      "outputs": []
    },
    {
      "cell_type": "code",
      "metadata": {
        "id": "5avoIY17C4QS"
      },
      "source": [
        "sweep_config_temp={\n",
        "  \"name\": \"DL Assign-2-partB-ed3\",\n",
        "  \"method\": \"random\",\n",
        "  'metric': {\n",
        "      'name': 'accuracy',\n",
        "      'goal': 'maximize'   \n",
        "    },\n",
        "  \"parameters\": {\n",
        "        \n",
        "        \"model\":{\n",
        "            \"values\":['VGG16','VGG19', 'ResNet50', 'InceptionResNetV2', 'Xception']\n",
        "        },\n",
        "        \n",
        "        \"Hidden_Layers\":{\n",
        "            \"values\":['Yes', 'No']\n",
        "        },\n",
        "        \"Layers_Trainable\":{\n",
        "            \"values\":['Yes', 'No']\n",
        "        },\n",
        "\n",
        "        \"Learning_Rate\":{\n",
        "            \"values\":[1e-3, 2e-5]\n",
        "        },\n",
        "\n",
        "    }\n",
        "}"
      ],
      "execution_count": null,
      "outputs": []
    },
    {
      "cell_type": "code",
      "metadata": {
        "id": "rDh08m4MC4Tq"
      },
      "source": [
        "sweep_id = wandb.sweep(sweep_config_temp, entity=\"cs20m014\", project=\"DL Assign-2-partB-ed3\")"
      ],
      "execution_count": null,
      "outputs": []
    },
    {
      "cell_type": "code",
      "metadata": {
        "id": "qerAjT2YEBKE"
      },
      "source": [
        "hyperparameter_defaults = dict(\n",
        "    model='InceptionResNetV2',\n",
        "    Hidden_Layers='Yes',\n",
        "    Layers_trainable='No',\n",
        "    Learning_Rate=2e-5,\n",
        "    )"
      ],
      "execution_count": null,
      "outputs": []
    },
    {
      "cell_type": "code",
      "metadata": {
        "id": "IKqEPO1YEBNR"
      },
      "source": [
        "train_datagen = ImageDataGenerator(zoom_range=0.2, rotation_range=30, width_shift_range=0.2, height_shift_range=0.2, shear_range=0.2)\n"
      ],
      "execution_count": null,
      "outputs": []
    },
    {
      "cell_type": "code",
      "metadata": {
        "id": "VpbsQkm2EBRJ"
      },
      "source": [
        "train_generator = train_datagen.flow(xTrain,yTrain_cat,batch_size=32)\n"
      ],
      "execution_count": null,
      "outputs": []
    },
    {
      "cell_type": "code",
      "metadata": {
        "id": "62ckfPGtETtM"
      },
      "source": [
        "train_datagen.fit(xTrain)"
      ],
      "execution_count": null,
      "outputs": []
    },
    {
      "cell_type": "code",
      "metadata": {
        "id": "LSx7rssnETw6"
      },
      "source": [
        "yTest_cat.shape"
      ],
      "execution_count": null,
      "outputs": []
    },
    {
      "cell_type": "code",
      "metadata": {
        "id": "M7Lc0xeLEg5f"
      },
      "source": [
        "def testModel():\n",
        "\n",
        "  keras.backend.clear_session()\n",
        "\n",
        "  wandb.init(config=hyperparameter_defaults)\n",
        "  config = wandb.config\n",
        "\n",
        "  model_type = config.model\n",
        "  learningRate=config.Learning_Rate\n",
        "  hLayers=config.Hidden_Layers\n",
        "  trainL=config.Layers_Trainable\n",
        "\n",
        "  model = model_layer_freeze(\n",
        "    input_shape=(224,224,3), \n",
        "    n_out=10,\n",
        "    hiddenLayers=hLayers,\n",
        "    trainLayers=trainL,\n",
        "    model_type = model_type)\n",
        "  \n",
        "  model.compile(loss='categorical_crossentropy',\n",
        "                  optimizer=K.optimizers.Adam(lr=learningRate), \n",
        "                  metrics=['accuracy'])\n",
        "\n",
        "  history = model.fit(train_generator, batch_size=32, epochs=5, verbose=1,\n",
        "                        validation_data=(xTest, yTest_cat)\n",
        "                      )\n",
        "  \n",
        "  \n",
        "  val_accuracy = max(history.history['val_accuracy'])\n",
        "  train_accuracy = max(history.history['accuracy'])\n",
        "\n",
        "  wandb.log({\n",
        "      \"Train Acc\": train_accuracy,\n",
        "        \"Valid Acc\": val_accuracy\n",
        "        })"
      ],
      "execution_count": null,
      "outputs": []
    },
    {
      "cell_type": "code",
      "metadata": {
        "id": "_hBnoXM7Eg9X"
      },
      "source": [
        "yTrain_cat.shape"
      ],
      "execution_count": null,
      "outputs": []
    },
    {
      "cell_type": "code",
      "metadata": {
        "id": "yQw9q88XEhBB"
      },
      "source": [
        "wandb.agent(sweep_id, testModel)"
      ],
      "execution_count": null,
      "outputs": []
    }
  ]
}